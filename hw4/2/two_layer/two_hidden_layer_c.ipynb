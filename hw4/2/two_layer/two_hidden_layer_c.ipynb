{
  "cells": [
    {
      "cell_type": "code",
      "execution_count": 1,
      "metadata": {
        "id": "ekDwtomm3egQ"
      },
      "outputs": [],
      "source": [
        "!pip install -q kaggle"
      ]
    },
    {
      "cell_type": "code",
      "execution_count": 2,
      "metadata": {
        "id": "Kh8rq37I3egS",
        "colab": {
          "base_uri": "https://localhost:8080/"
        },
        "outputId": "3fb4a4b6-297f-4be1-9d79-177e7eb79053"
      },
      "outputs": [
        {
          "output_type": "stream",
          "name": "stdout",
          "text": [
            "cp: cannot stat '/content/kaggle.json': No such file or directory\n",
            "chmod: cannot access '/root/.kaggle/kaggle.json': No such file or directory\n"
          ]
        }
      ],
      "source": [
        "!mkdir -p ~/.kaggle\n",
        "!cp /content/kaggle.json ~/.kaggle/\n",
        "!chmod 600 ~/.kaggle/kaggle.json"
      ]
    },
    {
      "cell_type": "code",
      "source": [
        "! kaggle datasets download sripaadsrinivasan/audio-mnist"
      ],
      "metadata": {
        "colab": {
          "base_uri": "https://localhost:8080/"
        },
        "id": "kj0adTX73tpa",
        "outputId": "511be9e8-da35-4d8f-eacc-a59a55406d5c"
      },
      "execution_count": 3,
      "outputs": [
        {
          "output_type": "stream",
          "name": "stdout",
          "text": [
            "Dataset URL: https://www.kaggle.com/datasets/sripaadsrinivasan/audio-mnist\n",
            "License(s): CC0-1.0\n",
            "Downloading audio-mnist.zip to /content\n",
            " 98% 934M/948M [00:12<00:00, 76.2MB/s]\n",
            "100% 948M/948M [00:12<00:00, 78.8MB/s]\n"
          ]
        }
      ]
    },
    {
      "cell_type": "code",
      "execution_count": null,
      "metadata": {
        "id": "yHXdiD3u3egT"
      },
      "outputs": [],
      "source": [
        "! unzip /content/audio-mnist.zip"
      ]
    },
    {
      "cell_type": "code",
      "execution_count": 5,
      "metadata": {
        "colab": {
          "base_uri": "https://localhost:8080/"
        },
        "id": "Hg5G0Wiy3egT",
        "outputId": "ab056b28-91a5-4a11-9915-2672c61ab876"
      },
      "outputs": [
        {
          "output_type": "stream",
          "name": "stderr",
          "text": [
            "Loading dataset: 100%|██████████| 61/61 [00:51<00:00,  1.18it/s]"
          ]
        },
        {
          "output_type": "stream",
          "name": "stdout",
          "text": [
            "Training set size: 24000\n",
            "Test set size: 6000\n"
          ]
        },
        {
          "output_type": "stream",
          "name": "stderr",
          "text": [
            "\n"
          ]
        }
      ],
      "source": [
        "import os\n",
        "import librosa\n",
        "import numpy as np\n",
        "from sklearn.model_selection import train_test_split\n",
        "from tqdm import tqdm  # Import tqdm for progress indication\n",
        "\n",
        "# Path to the dataset\n",
        "dataset_path = '/content/data'\n",
        "\n",
        "# Load dataset\n",
        "def load_audio_files(dataset_path):\n",
        "    X = []\n",
        "    y = []\n",
        "    for folder in tqdm(os.listdir(dataset_path), desc='Loading dataset'):  # Add tqdm here\n",
        "        folder_path = os.path.join(dataset_path, folder)\n",
        "        if not os.path.isdir(folder_path):  # Check if it's a directory\n",
        "            continue\n",
        "        for file in os.listdir(folder_path):\n",
        "            if file.endswith('.wav'):\n",
        "                file_path = os.path.join(folder_path, file)\n",
        "                audio, sr = librosa.load(file_path, sr=16000)\n",
        "                X.append(audio)\n",
        "                label = int(file.split('_')[0])\n",
        "                y.append(label)\n",
        "    return X, y\n",
        "\n",
        "# Load the dataset\n",
        "X, y = load_audio_files(dataset_path)\n",
        "\n",
        "# Split dataset into train/test sets\n",
        "X_train, X_test, y_train, y_test = train_test_split(X, y, test_size=0.2, random_state=42)\n",
        "\n",
        "# Output the sizes of the splits\n",
        "print(f\"Training set size: {len(X_train)}\")\n",
        "print(f\"Test set size: {len(X_test)}\")\n",
        "\n"
      ]
    },
    {
      "cell_type": "code",
      "source": [
        "def extract_mfcc_features(audio, sr, n_mfcc=12, frame_length=0.025, hop_length=0.01):\n",
        "    mfcc = librosa.feature.mfcc(y=audio, sr=sr, n_mfcc=n_mfcc, n_fft=int(frame_length*sr), n_mels=24)\n",
        "    mean = np.mean(mfcc, axis=1)\n",
        "    return mean\n",
        "\n",
        "# Extract MFCC features for the dataset\n",
        "X_train_mfcc = [extract_mfcc_features(x, 16000) for x in X_train]\n",
        "X_test_mfcc = [extract_mfcc_features(x, 16000) for x in X_test]\n",
        "\n",
        "\n",
        "\n",
        "\n",
        "# Convert to numpy arrays\n",
        "X_train_mfcc = np.array(X_train_mfcc)\n",
        "X_test_mfcc = np.array(X_test_mfcc)\n",
        "y_train = np.array(y_train)\n",
        "y_test = np.array(y_test)\n",
        "\n",
        "print(\"MFCC feature extraction complete.\")\n"
      ],
      "metadata": {
        "colab": {
          "base_uri": "https://localhost:8080/"
        },
        "id": "hyXbIiPR45Wh",
        "outputId": "0a6793f6-d24e-49a7-882e-17b9d4d37dc0"
      },
      "execution_count": 7,
      "outputs": [
        {
          "output_type": "stream",
          "name": "stdout",
          "text": [
            "MFCC feature extraction complete.\n"
          ]
        }
      ]
    },
    {
      "cell_type": "code",
      "source": [
        "X_train_mfcc.shape"
      ],
      "metadata": {
        "colab": {
          "base_uri": "https://localhost:8080/"
        },
        "id": "71-YFw885bB9",
        "outputId": "806c94fc-ce23-47af-d3b2-d72f9099b695"
      },
      "execution_count": 8,
      "outputs": [
        {
          "output_type": "execute_result",
          "data": {
            "text/plain": [
              "(24000, 12)"
            ]
          },
          "metadata": {},
          "execution_count": 8
        }
      ]
    },
    {
      "cell_type": "code",
      "source": [
        "import numpy as np\n",
        "\n",
        "class MLP:\n",
        "    def __init__(self, input_size, hidden_size1, hidden_size2, output_size, learning_rate=0.001):\n",
        "        self.input_size = input_size\n",
        "        self.hidden_size1 = hidden_size1\n",
        "        self.hidden_size2 = hidden_size2\n",
        "        self.output_size = output_size\n",
        "        self.learning_rate = learning_rate\n",
        "\n",
        "        # Xavier initialization for weights\n",
        "        self.W1 = np.random.randn(self.input_size, self.hidden_size1) * np.sqrt(1. / self.input_size)\n",
        "        self.W2 = np.random.randn(self.hidden_size1, self.hidden_size2) * np.sqrt(1. / self.hidden_size1)\n",
        "        self.W3 = np.random.randn(self.hidden_size2, self.output_size) * np.sqrt(1. / self.hidden_size2)\n",
        "        self.b1 = np.zeros((1, self.hidden_size1))\n",
        "        self.b2 = np.zeros((1, self.hidden_size2))\n",
        "        self.b3 = np.zeros((1, self.output_size))\n",
        "\n",
        "    def bipolar_sigmoid(self, x):\n",
        "        return 2 / (1 + np.exp(-x)) - 1\n",
        "\n",
        "    def bipolar_sigmoid_derivative(self, x):\n",
        "        return 0.5 * (1 + x) * (1 - x)\n",
        "\n",
        "    def softmax(self, x):\n",
        "        exp_x = np.exp(x - np.max(x, axis=1, keepdims=True))\n",
        "        return exp_x / np.sum(exp_x, axis=1, keepdims=True)\n",
        "\n",
        "    def mse(self, y_true, y_pred):\n",
        "        return np.mean((y_true - y_pred) ** 2)\n",
        "\n",
        "    def forward(self, x):\n",
        "        self.z1 = np.dot(x, self.W1) + self.b1\n",
        "        self.a1 = self.bipolar_sigmoid(self.z1)\n",
        "        self.z2 = np.dot(self.a1, self.W2) + self.b2\n",
        "        self.a2 = self.bipolar_sigmoid(self.z2)\n",
        "        self.z3 = np.dot(self.a2, self.W3) + self.b3\n",
        "        self.a3 = self.bipolar_sigmoid(self.z3)\n",
        "        return self.a3\n",
        "\n",
        "    def backward(self, x, y, output):\n",
        "        m = y.shape[0]\n",
        "        delta3 = output - y\n",
        "        dW3 = np.dot(self.a2.T, delta3) / m\n",
        "        db3 = np.sum(delta3, axis=0, keepdims=True) / m\n",
        "\n",
        "        delta2 = np.dot(delta3, self.W3.T) * self.bipolar_sigmoid_derivative(self.a2)\n",
        "        dW2 = np.dot(self.a1.T, delta2) / m\n",
        "        db2 = np.sum(delta2, axis=0, keepdims=True) / m\n",
        "\n",
        "        delta1 = np.dot(delta2, self.W2.T) * self.bipolar_sigmoid_derivative(self.a1)\n",
        "        dW1 = np.dot(x.T, delta1) / m\n",
        "        db1 = np.sum(delta1, axis=0, keepdims=True) / m\n",
        "\n",
        "        self.W1 -= self.learning_rate * dW1\n",
        "        self.W2 -= self.learning_rate * dW2\n",
        "        self.W3 -= self.learning_rate * dW3\n",
        "        self.b1 -= self.learning_rate * db1\n",
        "        self.b2 -= self.learning_rate * db2\n",
        "        self.b3 -= self.learning_rate * db3\n",
        "\n",
        "    def train(self, X, y, epochs=30):\n",
        "        mse_errors = []\n",
        "        accuracies = []\n",
        "\n",
        "        for epoch in range(epochs):\n",
        "            total_error = 0\n",
        "            correct_predictions = 0\n",
        "            class_correct = np.zeros(self.output_size)\n",
        "            class_total = np.zeros(self.output_size)\n",
        "\n",
        "            for i in range(len(X)):\n",
        "                X_sample = X[i].reshape(1, -1)\n",
        "                y_sample = y[i].reshape(1, -1)\n",
        "\n",
        "                output = self.forward(X_sample)\n",
        "\n",
        "                self.backward(X_sample, y_sample, output)\n",
        "\n",
        "                # Calculate accuracy\n",
        "                predicted_class = np.argmax(self.softmax(output))\n",
        "                true_class = np.argmax(y_sample)\n",
        "                if predicted_class == true_class:\n",
        "                    correct_predictions += 1\n",
        "                    class_correct[true_class] += 1\n",
        "                class_total[true_class] += 1\n",
        "\n",
        "                total_error += self.mse(y_sample, output)\n",
        "\n",
        "            avg_error = total_error / len(X)\n",
        "            accuracy = correct_predictions / len(X)\n",
        "            mse_errors.append(avg_error)\n",
        "            accuracies.append(accuracy)\n",
        "            print(f\"Epoch {epoch+1}/{epochs}, Avg Error: {avg_error:.6f}, Accuracy: {accuracy:.6f}\")\n",
        "\n",
        "            # Print accuracy for each class\n",
        "            for i in range(self.output_size):\n",
        "                class_accuracy = class_correct[i] / class_total[i] if class_total[i] > 0 else 0\n",
        "                print(f\"Class {i} Accuracy: {class_accuracy:.6f}\")\n",
        "\n",
        "        return mse_errors, accuracies\n",
        "\n",
        "    def predict(self, X):\n",
        "        output = self.forward(X)\n",
        "        return np.argmax(self.softmax(output), axis=1)\n",
        "\n",
        "# Ensure the data is normalized\n",
        "X_train_mfcc = (X_train_mfcc - np.mean(X_train_mfcc, axis=0)) / np.std(X_train_mfcc, axis=0)\n",
        "X_test_mfcc = (X_test_mfcc - np.mean(X_test_mfcc, axis=0)) / np.std(X_test_mfcc, axis=0)\n",
        "\n",
        "# Define the size of the input, hidden and output layers\n",
        "input_size = X_train_mfcc.shape[1]\n",
        "hidden_size1 = int(input_size / 2)\n",
        "hidden_size2 = int( input_size / 3)\n",
        "output_size = 10\n",
        "\n",
        "# Initialize the MLP\n",
        "mlp = MLP(input_size=input_size, hidden_size1=hidden_size1, hidden_size2=hidden_size2, output_size=output_size, learning_rate=0.001)\n",
        "\n",
        "# One-hot encoding\n",
        "def to_one_hot(y, num_classes):\n",
        "    one_hot = np.zeros((y.shape[0], num_classes))\n",
        "    one_hot[np.arange(y.shape[0]), y] = 1\n",
        "    return one_hot\n",
        "\n",
        "y_train_one_hot = to_one_hot(y_train, output_size)\n",
        "\n",
        "# Train the MLP\n",
        "mse_errors, accuracies = mlp.train(X_train_mfcc, y_train_one_hot, epochs=5)\n",
        "\n"
      ],
      "metadata": {
        "colab": {
          "base_uri": "https://localhost:8080/"
        },
        "id": "SC6ACjBvhyAp",
        "outputId": "7ee81584-8203-4194-cf13-898d85b789c5"
      },
      "execution_count": 29,
      "outputs": [
        {
          "output_type": "stream",
          "name": "stdout",
          "text": [
            "Epoch 1/5, Avg Error: 0.084236, Accuracy: 0.278125\n",
            "Class 0 Accuracy: 0.021088\n",
            "Class 1 Accuracy: 0.084466\n",
            "Class 2 Accuracy: 0.472911\n",
            "Class 3 Accuracy: 0.463251\n",
            "Class 4 Accuracy: 0.732919\n",
            "Class 5 Accuracy: 0.484206\n",
            "Class 6 Accuracy: 0.053986\n",
            "Class 7 Accuracy: 0.274314\n",
            "Class 8 Accuracy: 0.173625\n",
            "Class 9 Accuracy: 0.019810\n",
            "Epoch 2/5, Avg Error: 0.075945, Accuracy: 0.458042\n",
            "Class 0 Accuracy: 0.071700\n",
            "Class 1 Accuracy: 0.042439\n",
            "Class 2 Accuracy: 0.467451\n",
            "Class 3 Accuracy: 0.746325\n",
            "Class 4 Accuracy: 0.710973\n",
            "Class 5 Accuracy: 0.891937\n",
            "Class 6 Accuracy: 0.531421\n",
            "Class 7 Accuracy: 0.620532\n",
            "Class 8 Accuracy: 0.460107\n",
            "Class 9 Accuracy: 0.041684\n",
            "Epoch 3/5, Avg Error: 0.073231, Accuracy: 0.531792\n",
            "Class 0 Accuracy: 0.258541\n",
            "Class 1 Accuracy: 0.003296\n",
            "Class 2 Accuracy: 0.357833\n",
            "Class 3 Accuracy: 0.684586\n",
            "Class 4 Accuracy: 0.791304\n",
            "Class 5 Accuracy: 0.942228\n",
            "Class 6 Accuracy: 0.820751\n",
            "Class 7 Accuracy: 0.578969\n",
            "Class 8 Accuracy: 0.700703\n",
            "Class 9 Accuracy: 0.184895\n",
            "Epoch 4/5, Avg Error: 0.070114, Accuracy: 0.588125\n",
            "Class 0 Accuracy: 0.589203\n",
            "Class 1 Accuracy: 0.000000\n",
            "Class 2 Accuracy: 0.220496\n",
            "Class 3 Accuracy: 0.594708\n",
            "Class 4 Accuracy: 0.879089\n",
            "Class 5 Accuracy: 0.925187\n",
            "Class 6 Accuracy: 0.948545\n",
            "Class 7 Accuracy: 0.496259\n",
            "Class 8 Accuracy: 0.772633\n",
            "Class 9 Accuracy: 0.460586\n",
            "Epoch 5/5, Avg Error: 0.066837, Accuracy: 0.604667\n",
            "Class 0 Accuracy: 0.715310\n",
            "Class 1 Accuracy: 0.000000\n",
            "Class 2 Accuracy: 0.139437\n",
            "Class 3 Accuracy: 0.457371\n",
            "Class 4 Accuracy: 0.937060\n",
            "Class 5 Accuracy: 0.923525\n",
            "Class 6 Accuracy: 0.980177\n",
            "Class 7 Accuracy: 0.397756\n",
            "Class 8 Accuracy: 0.857379\n",
            "Class 9 Accuracy: 0.641766\n"
          ]
        }
      ]
    },
    {
      "cell_type": "code",
      "source": [
        "import matplotlib.pyplot as plt\n",
        "# Plot MSE errors\n",
        "plt.figure(figsize=(10, 5))\n",
        "plt.plot(mse_errors, label='MSE Error')\n",
        "plt.xlabel('Epochs')\n",
        "plt.ylabel('MSE')\n",
        "plt.title('MSE Error over Epochs')\n",
        "plt.legend()\n",
        "plt.show()\n",
        "\n",
        "\n",
        "\n",
        "\n"
      ],
      "metadata": {
        "id": "4F_H6VW5XV1V",
        "colab": {
          "base_uri": "https://localhost:8080/",
          "height": 487
        },
        "outputId": "f8e63632-0057-4118-ef5d-1bf32de17f04"
      },
      "execution_count": 30,
      "outputs": [
        {
          "output_type": "display_data",
          "data": {
            "text/plain": [
              "<Figure size 1000x500 with 1 Axes>"
            ],
            "image/png": "[encoded data removed]"
          },
          "metadata": {}
        }
      ]
    },
    {
      "cell_type": "code",
      "source": [
        "# Plot accuracies\n",
        "plt.figure(figsize=(10, 5))\n",
        "plt.plot(accuracies, label='Accuracy')\n",
        "plt.xlabel('Epochs')\n",
        "plt.ylabel('Accuracy')\n",
        "plt.title('Accuracy over Epochs')\n",
        "plt.legend()\n",
        "plt.show()"
      ],
      "metadata": {
        "id": "uMjiFu9LbTuU",
        "colab": {
          "base_uri": "https://localhost:8080/",
          "height": 487
        },
        "outputId": "6c4f3a8d-48e3-4b3a-ff61-2784b96099fb"
      },
      "execution_count": 31,
      "outputs": [
        {
          "output_type": "display_data",
          "data": {
            "text/plain": [
              "<Figure size 1000x500 with 1 Axes>"
            ],
            "image/png": "[encoded data removed]"
          },
          "metadata": {}
        }
      ]
    },
    {
      "cell_type": "code",
      "source": [
        "# Predict on test data\n",
        "y_pred = mlp.predict(X_test_mfcc)\n",
        "\n",
        "# Calculate test accuracy\n",
        "test_accuracy = np.mean(y_pred == y_test)\n",
        "print(f'Test Accuracy: {test_accuracy * 100:.2f}%')\n",
        "\n",
        "# Calculate accuracy for each class on test data\n",
        "class_correct = np.zeros(output_size)\n",
        "class_total = np.zeros(output_size)\n",
        "\n",
        "for i in range(len(y_test)):\n",
        "    true_class = y_test[i]\n",
        "    predicted_class = y_pred[i]\n",
        "    if true_class == predicted_class:\n",
        "        class_correct[true_class] += 1\n",
        "    class_total[true_class] += 1\n",
        "\n",
        "for i in range(output_size):\n",
        "    class_accuracy = class_correct[i] / class_total[i] if class_total[i] > 0 else 0\n",
        "    print(f\"Test Class {i} Accuracy: {class_accuracy * 100:.2f}%\")"
      ],
      "metadata": {
        "id": "qcQk4zt8bSWT",
        "colab": {
          "base_uri": "https://localhost:8080/"
        },
        "outputId": "ec32feb3-b70d-42a5-c7c3-c109320b59fd"
      },
      "execution_count": 32,
      "outputs": [
        {
          "output_type": "stream",
          "name": "stdout",
          "text": [
            "Test Accuracy: 58.92%\n",
            "Test Class 0 Accuracy: 72.34%\n",
            "Test Class 1 Accuracy: 0.17%\n",
            "Test Class 2 Accuracy: 8.40%\n",
            "Test Class 3 Accuracy: 32.15%\n",
            "Test Class 4 Accuracy: 95.90%\n",
            "Test Class 5 Accuracy: 90.07%\n",
            "Test Class 6 Accuracy: 98.41%\n",
            "Test Class 7 Accuracy: 35.35%\n",
            "Test Class 8 Accuracy: 90.19%\n",
            "Test Class 9 Accuracy: 65.68%\n"
          ]
        }
      ]
    }
  ],
  "metadata": {
    "language_info": {
      "name": "python"
    },
    "colab": {
      "provenance": []
    },
    "kernelspec": {
      "name": "python3",
      "display_name": "Python 3"
    }
  },
  "nbformat": 4,
  "nbformat_minor": 0
}