{
  "cells": [
    {
      "cell_type": "code",
      "execution_count": 1,
      "metadata": {
        "id": "ekDwtomm3egQ"
      },
      "outputs": [],
      "source": [
        "!pip install -q kaggle"
      ]
    },
    {
      "cell_type": "code",
      "execution_count": 2,
      "metadata": {
        "id": "Kh8rq37I3egS",
        "colab": {
          "base_uri": "https://localhost:8080/"
        },
        "outputId": "3fb4a4b6-297f-4be1-9d79-177e7eb79053"
      },
      "outputs": [
        {
          "output_type": "stream",
          "name": "stdout",
          "text": [
            "cp: cannot stat '/content/kaggle.json': No such file or directory\n",
            "chmod: cannot access '/root/.kaggle/kaggle.json': No such file or directory\n"
          ]
        }
      ],
      "source": [
        "!mkdir -p ~/.kaggle\n",
        "!cp /content/kaggle.json ~/.kaggle/\n",
        "!chmod 600 ~/.kaggle/kaggle.json"
      ]
    },
    {
      "cell_type": "code",
      "source": [
        "! kaggle datasets download sripaadsrinivasan/audio-mnist"
      ],
      "metadata": {
        "colab": {
          "base_uri": "https://localhost:8080/"
        },
        "id": "kj0adTX73tpa",
        "outputId": "511be9e8-da35-4d8f-eacc-a59a55406d5c"
      },
      "execution_count": 3,
      "outputs": [
        {
          "output_type": "stream",
          "name": "stdout",
          "text": [
            "Dataset URL: https://www.kaggle.com/datasets/sripaadsrinivasan/audio-mnist\n",
            "License(s): CC0-1.0\n",
            "Downloading audio-mnist.zip to /content\n",
            " 98% 934M/948M [00:12<00:00, 76.2MB/s]\n",
            "100% 948M/948M [00:12<00:00, 78.8MB/s]\n"
          ]
        }
      ]
    },
    {
      "cell_type": "code",
      "execution_count": null,
      "metadata": {
        "id": "yHXdiD3u3egT"
      },
      "outputs": [],
      "source": [
        "! unzip /content/audio-mnist.zip"
      ]
    },
    {
      "cell_type": "code",
      "execution_count": 5,
      "metadata": {
        "colab": {
          "base_uri": "https://localhost:8080/"
        },
        "id": "Hg5G0Wiy3egT",
        "outputId": "ab056b28-91a5-4a11-9915-2672c61ab876"
      },
      "outputs": [
        {
          "output_type": "stream",
          "name": "stderr",
          "text": [
            "Loading dataset: 100%|██████████| 61/61 [00:51<00:00,  1.18it/s]"
          ]
        },
        {
          "output_type": "stream",
          "name": "stdout",
          "text": [
            "Training set size: 24000\n",
            "Test set size: 6000\n"
          ]
        },
        {
          "output_type": "stream",
          "name": "stderr",
          "text": [
            "\n"
          ]
        }
      ],
      "source": [
        "import os\n",
        "import librosa\n",
        "import numpy as np\n",
        "from sklearn.model_selection import train_test_split\n",
        "from tqdm import tqdm  # Import tqdm for progress indication\n",
        "\n",
        "# Path to the dataset\n",
        "dataset_path = '/content/data'\n",
        "\n",
        "# Load dataset\n",
        "def load_audio_files(dataset_path):\n",
        "    X = []\n",
        "    y = []\n",
        "    for folder in tqdm(os.listdir(dataset_path), desc='Loading dataset'):  # Add tqdm here\n",
        "        folder_path = os.path.join(dataset_path, folder)\n",
        "        if not os.path.isdir(folder_path):  # Check if it's a directory\n",
        "            continue\n",
        "        for file in os.listdir(folder_path):\n",
        "            if file.endswith('.wav'):\n",
        "                file_path = os.path.join(folder_path, file)\n",
        "                audio, sr = librosa.load(file_path, sr=16000)\n",
        "                X.append(audio)\n",
        "                label = int(file.split('_')[0])\n",
        "                y.append(label)\n",
        "    return X, y\n",
        "\n",
        "# Load the dataset\n",
        "X, y = load_audio_files(dataset_path)\n",
        "\n",
        "# Split dataset into train/test sets\n",
        "X_train, X_test, y_train, y_test = train_test_split(X, y, test_size=0.2, random_state=42)\n",
        "\n",
        "# Output the sizes of the splits\n",
        "print(f\"Training set size: {len(X_train)}\")\n",
        "print(f\"Test set size: {len(X_test)}\")\n",
        "\n"
      ]
    },
    {
      "cell_type": "code",
      "source": [
        "def extract_mfcc_features(audio, sr, n_mfcc=12, frame_length=0.025, hop_length=0.01):\n",
        "    mfcc = librosa.feature.mfcc(y=audio, sr=sr, n_mfcc=n_mfcc, n_fft=int(frame_length*sr), n_mels=24)\n",
        "    mean = np.mean(mfcc, axis=1)\n",
        "    return mean\n",
        "\n",
        "# Extract MFCC features for the dataset\n",
        "X_train_mfcc = [extract_mfcc_features(x, 16000) for x in X_train]\n",
        "X_test_mfcc = [extract_mfcc_features(x, 16000) for x in X_test]\n",
        "\n",
        "\n",
        "\n",
        "\n",
        "# Convert to numpy arrays\n",
        "X_train_mfcc = np.array(X_train_mfcc)\n",
        "X_test_mfcc = np.array(X_test_mfcc)\n",
        "y_train = np.array(y_train)\n",
        "y_test = np.array(y_test)\n",
        "\n",
        "print(\"MFCC feature extraction complete.\")\n"
      ],
      "metadata": {
        "colab": {
          "base_uri": "https://localhost:8080/"
        },
        "id": "hyXbIiPR45Wh",
        "outputId": "0a6793f6-d24e-49a7-882e-17b9d4d37dc0"
      },
      "execution_count": 7,
      "outputs": [
        {
          "output_type": "stream",
          "name": "stdout",
          "text": [
            "MFCC feature extraction complete.\n"
          ]
        }
      ]
    },
    {
      "cell_type": "code",
      "source": [
        "X_train_mfcc.shape"
      ],
      "metadata": {
        "colab": {
          "base_uri": "https://localhost:8080/"
        },
        "id": "71-YFw885bB9",
        "outputId": "806c94fc-ce23-47af-d3b2-d72f9099b695"
      },
      "execution_count": 8,
      "outputs": [
        {
          "output_type": "execute_result",
          "data": {
            "text/plain": [
              "(24000, 12)"
            ]
          },
          "metadata": {},
          "execution_count": 8
        }
      ]
    },
    {
      "cell_type": "code",
      "source": [
        "import numpy as np\n",
        "import matplotlib.pyplot as plt\n",
        "\n",
        "def softmax(x):\n",
        "    exp_values = np.exp(x - np.max(x, axis=1, keepdims=True))\n",
        "    return exp_values / np.sum(exp_values, axis=1, keepdims=True)\n",
        "\n",
        "def relu(x):\n",
        "    return np.maximum(0, x)\n",
        "\n",
        "def relu_derivative(x):\n",
        "    return np.where(x > 0, 1, 0)\n",
        "\n",
        "# Mean Squared Error\n",
        "def mse(y_true, y_pred):\n",
        "    return np.mean((y_true - y_pred) ** 2)\n",
        "\n",
        "# MLP class\n",
        "class MLP:\n",
        "    def __init__(self, input_size, hidden_size1, hidden_size2, output_size, learning_rate=0.001):\n",
        "        self.input_size = input_size\n",
        "        self.hidden_size1 = hidden_size1\n",
        "        self.hidden_size2 = hidden_size2\n",
        "        self.output_size = output_size\n",
        "        self.learning_rate = learning_rate\n",
        "\n",
        "        # Xavier initialization for weights\n",
        "        self.weights_input_hidden = np.random.randn(self.input_size, self.hidden_size1) * np.sqrt(1. / self.input_size)\n",
        "        self.weights_hidden_hidden = np.random.randn(self.hidden_size1, self.hidden_size2) * np.sqrt(1. / self.hidden_size1)\n",
        "        self.weights_hidden_output = np.random.randn(self.hidden_size2, self.output_size) * np.sqrt(1. / self.hidden_size2)\n",
        "\n",
        "        # Bias initialization\n",
        "        self.bias_hidden1 = np.zeros((1, self.hidden_size1))\n",
        "        self.bias_hidden2 = np.zeros((1, self.hidden_size2))\n",
        "        self.bias_output = np.zeros((1, self.output_size))\n",
        "\n",
        "    def forward(self, X):\n",
        "        self.hidden_input1 = np.dot(X, self.weights_input_hidden) + self.bias_hidden1\n",
        "        self.hidden_output1 = relu(self.hidden_input1)\n",
        "\n",
        "        self.hidden_input2 = np.dot(self.hidden_output1, self.weights_hidden_hidden) + self.bias_hidden2\n",
        "        self.hidden_output2 = relu(self.hidden_input2)\n",
        "\n",
        "        self.output_input = np.dot(self.hidden_output2, self.weights_hidden_output) + self.bias_output\n",
        "        self.output_output = relu(self.output_input)\n",
        "\n",
        "        return self.output_output\n",
        "\n",
        "    def backward(self, X, y, output):\n",
        "        output_error = y - output\n",
        "        output_delta = output_error * relu_derivative(self.output_input)\n",
        "\n",
        "        hidden_error2 = np.dot(output_delta, self.weights_hidden_output.T)\n",
        "        hidden_delta2 = hidden_error2 * relu_derivative(self.hidden_input2)\n",
        "\n",
        "        hidden_error1 = np.dot(hidden_delta2, self.weights_hidden_hidden.T)\n",
        "        hidden_delta1 = hidden_error1 * relu_derivative(self.hidden_input1)\n",
        "\n",
        "        self.weights_hidden_output += self.learning_rate * np.dot(self.hidden_output2.T, output_delta)\n",
        "        self.weights_hidden_hidden += self.learning_rate * np.dot(self.hidden_output1.T, hidden_delta2)\n",
        "        self.weights_input_hidden += self.learning_rate * np.dot(X.T, hidden_delta1)\n",
        "\n",
        "        self.bias_output += self.learning_rate * np.sum(output_delta, axis=0, keepdims=True)\n",
        "        self.bias_hidden2 += self.learning_rate * np.sum(hidden_delta2, axis=0, keepdims=True)\n",
        "        self.bias_hidden1 += self.learning_rate * np.sum(hidden_delta1, axis=0, keepdims=True)\n",
        "\n",
        "    def train(self, X, y, epochs=30):\n",
        "        mse_errors = []\n",
        "        accuracies = []\n",
        "\n",
        "        for epoch in range(epochs):\n",
        "            total_error = 0\n",
        "            correct_predictions = 0\n",
        "            class_correct = np.zeros(self.output_size)\n",
        "            class_total = np.zeros(self.output_size)\n",
        "\n",
        "            for i in range(len(X)):\n",
        "                X_sample = X[i].reshape(1, -1)\n",
        "                y_sample = y[i].reshape(1, -1)\n",
        "\n",
        "                output = self.forward(X_sample)\n",
        "\n",
        "                self.backward(X_sample, y_sample, output)\n",
        "\n",
        "                # Calculate accuracy\n",
        "                predicted_class = np.argmax(softmax(output))\n",
        "                true_class = np.argmax(y_sample)\n",
        "                if predicted_class == true_class:\n",
        "                    correct_predictions += 1\n",
        "                    class_correct[true_class] += 1\n",
        "                class_total[true_class] += 1\n",
        "\n",
        "                total_error += mse(y_sample, output)\n",
        "\n",
        "            avg_error = total_error / len(X)\n",
        "            accuracy = correct_predictions / len(X)\n",
        "            mse_errors.append(avg_error)\n",
        "            accuracies.append(accuracy)\n",
        "            print(f\"Epoch {epoch+1}/{epochs}, Avg Error: {avg_error:.6f}, Accuracy: {accuracy:.6f}\")\n",
        "\n",
        "            # Print accuracy for each class\n",
        "            for i in range(self.output_size):\n",
        "                class_accuracy = class_correct[i] / class_total[i] if class_total[i] > 0 else 0\n",
        "                print(f\"Class {i} Accuracy: {class_accuracy:.6f}\")\n",
        "\n",
        "        return mse_errors, accuracies\n",
        "\n",
        "    def predict(self, X):\n",
        "        output = self.forward(X)\n",
        "        return np.argmax(softmax(output), axis=1)\n",
        "\n",
        "# Ensure the data is normalized\n",
        "X_train_mfcc = (X_train_mfcc - np.mean(X_train_mfcc, axis=0)) / np.std(X_train_mfcc, axis=0)\n",
        "X_test_mfcc = (X_test_mfcc - np.mean(X_test_mfcc, axis=0)) / np.std(X_test_mfcc, axis=0)\n",
        "\n",
        "# Define the size of the input, hidden and output layers\n",
        "input_size = X_train_mfcc.shape[1]\n",
        "hidden_size1 = int(2 * input_size / 3)\n",
        "hidden_size2 = int(input_size / 2)\n",
        "output_size = 10\n",
        "\n",
        "# Initialize the MLP\n",
        "mlp = MLP(input_size=input_size, hidden_size1=hidden_size1, hidden_size2=hidden_size2, output_size=output_size, learning_rate=0.001)\n",
        "\n",
        "# One-hot encoding\n",
        "def to_one_hot(y, num_classes):\n",
        "    one_hot = np.zeros((y.shape[0], num_classes))\n",
        "    one_hot[np.arange(y.shape[0]), y] = 1\n",
        "    return one_hot\n",
        "\n",
        "y_train_one_hot = to_one_hot(y_train, output_size)\n",
        "\n",
        "# Train the MLP\n",
        "mse_errors, accuracies = mlp.train(X_train_mfcc, y_train_one_hot, epochs=5)\n",
        "\n",
        "\n"
      ],
      "metadata": {
        "colab": {
          "base_uri": "https://localhost:8080/"
        },
        "id": "SC6ACjBvhyAp",
        "outputId": "ec7d7065-3ccc-4165-e95a-ef14da6071f5"
      },
      "execution_count": 45,
      "outputs": [
        {
          "output_type": "stream",
          "name": "stdout",
          "text": [
            "Epoch 1/5, Avg Error: 0.087589, Accuracy: 0.258708\n",
            "Class 0 Accuracy: 0.036693\n",
            "Class 1 Accuracy: 0.614751\n",
            "Class 2 Accuracy: 0.402772\n",
            "Class 3 Accuracy: 0.433851\n",
            "Class 4 Accuracy: 0.000000\n",
            "Class 5 Accuracy: 0.340815\n",
            "Class 6 Accuracy: 0.000422\n",
            "Class 7 Accuracy: 0.263092\n",
            "Class 8 Accuracy: 0.256304\n",
            "Class 9 Accuracy: 0.232769\n",
            "Epoch 2/5, Avg Error: 0.070297, Accuracy: 0.490667\n",
            "Class 0 Accuracy: 0.199072\n",
            "Class 1 Accuracy: 0.756077\n",
            "Class 2 Accuracy: 0.543889\n",
            "Class 3 Accuracy: 0.646787\n",
            "Class 4 Accuracy: 0.000000\n",
            "Class 5 Accuracy: 0.788030\n",
            "Class 6 Accuracy: 0.000000\n",
            "Class 7 Accuracy: 0.640482\n",
            "Class 8 Accuracy: 0.801571\n",
            "Class 9 Accuracy: 0.519191\n",
            "Epoch 3/5, Avg Error: 0.060912, Accuracy: 0.567208\n",
            "Class 0 Accuracy: 0.525938\n",
            "Class 1 Accuracy: 0.783684\n",
            "Class 2 Accuracy: 0.523730\n",
            "Class 3 Accuracy: 0.703486\n",
            "Class 4 Accuracy: 0.000000\n",
            "Class 5 Accuracy: 0.901496\n",
            "Class 6 Accuracy: 0.000000\n",
            "Class 7 Accuracy: 0.690357\n",
            "Class 8 Accuracy: 0.821000\n",
            "Class 9 Accuracy: 0.712340\n",
            "Epoch 4/5, Avg Error: 0.056718, Accuracy: 0.594000\n",
            "Class 0 Accuracy: 0.646141\n",
            "Class 1 Accuracy: 0.795632\n",
            "Class 2 Accuracy: 0.544309\n",
            "Class 3 Accuracy: 0.728265\n",
            "Class 4 Accuracy: 0.000000\n",
            "Class 5 Accuracy: 0.915628\n",
            "Class 6 Accuracy: 0.000000\n",
            "Class 7 Accuracy: 0.740233\n",
            "Class 8 Accuracy: 0.794957\n",
            "Class 9 Accuracy: 0.765993\n",
            "Epoch 5/5, Avg Error: 0.054370, Accuracy: 0.605000\n",
            "Class 0 Accuracy: 0.663433\n",
            "Class 1 Accuracy: 0.813762\n",
            "Class 2 Accuracy: 0.572869\n",
            "Class 3 Accuracy: 0.740865\n",
            "Class 4 Accuracy: 0.000000\n",
            "Class 5 Accuracy: 0.910640\n",
            "Class 6 Accuracy: 0.000000\n",
            "Class 7 Accuracy: 0.770158\n",
            "Class 8 Accuracy: 0.785035\n",
            "Class 9 Accuracy: 0.784565\n"
          ]
        }
      ]
    },
    {
      "cell_type": "code",
      "source": [
        "import matplotlib.pyplot as plt\n",
        "# Plot MSE errors\n",
        "plt.figure(figsize=(10, 5))\n",
        "plt.plot(mse_errors, label='MSE Error')\n",
        "plt.xlabel('Epochs')\n",
        "plt.ylabel('MSE')\n",
        "plt.title('MSE Error over Epochs')\n",
        "plt.legend()\n",
        "plt.show()\n",
        "\n",
        "\n",
        "\n",
        "\n"
      ],
      "metadata": {
        "id": "4F_H6VW5XV1V",
        "colab": {
          "base_uri": "https://localhost:8080/",
          "height": 487
        },
        "outputId": "d442a581-a8a1-4d7a-ba82-5941ee3a494d"
      },
      "execution_count": 46,
      "outputs": [
        {
          "output_type": "display_data",
          "data": {
            "text/plain": [
              "<Figure size 1000x500 with 1 Axes>"
            ],
            "image/png": "[encoded data removed]"
          },
          "metadata": {}
        }
      ]
    },
    {
      "cell_type": "code",
      "source": [
        "# Plot accuracies\n",
        "plt.figure(figsize=(10, 5))\n",
        "plt.plot(accuracies, label='Accuracy')\n",
        "plt.xlabel('Epochs')\n",
        "plt.ylabel('Accuracy')\n",
        "plt.title('Accuracy over Epochs')\n",
        "plt.legend()\n",
        "plt.show()"
      ],
      "metadata": {
        "id": "uMjiFu9LbTuU",
        "colab": {
          "base_uri": "https://localhost:8080/",
          "height": 487
        },
        "outputId": "efe261ef-0031-4569-fb21-f56634bdb635"
      },
      "execution_count": 47,
      "outputs": [
        {
          "output_type": "display_data",
          "data": {
            "text/plain": [
              "<Figure size 1000x500 with 1 Axes>"
            ],
            "image/png": "[encoded data removed]"
          },
          "metadata": {}
        }
      ]
    },
    {
      "cell_type": "code",
      "source": [
        "# Predict on test data\n",
        "y_pred = mlp.predict(X_test_mfcc)\n",
        "\n",
        "# Calculate test accuracy\n",
        "test_accuracy = np.mean(y_pred == y_test)\n",
        "print(f'Test Accuracy: {test_accuracy * 100:.2f}%')\n",
        "\n",
        "# Calculate accuracy for each class on test data\n",
        "class_correct = np.zeros(output_size)\n",
        "class_total = np.zeros(output_size)\n",
        "\n",
        "for i in range(len(y_test)):\n",
        "    true_class = y_test[i]\n",
        "    predicted_class = y_pred[i]\n",
        "    if true_class == predicted_class:\n",
        "        class_correct[true_class] += 1\n",
        "    class_total[true_class] += 1\n",
        "\n",
        "for i in range(output_size):\n",
        "    class_accuracy = class_correct[i] / class_total[i] if class_total[i] > 0 else 0\n",
        "    print(f\"Test Class {i} Accuracy: {class_accuracy * 100:.2f}%\")"
      ],
      "metadata": {
        "id": "qcQk4zt8bSWT",
        "colab": {
          "base_uri": "https://localhost:8080/"
        },
        "outputId": "b09e96a3-15aa-4098-ca12-a727695d1e5b"
      },
      "execution_count": 48,
      "outputs": [
        {
          "output_type": "stream",
          "name": "stdout",
          "text": [
            "Test Accuracy: 60.47%\n",
            "Test Class 0 Accuracy: 66.14%\n",
            "Test Class 1 Accuracy: 82.90%\n",
            "Test Class 2 Accuracy: 60.58%\n",
            "Test Class 3 Accuracy: 69.14%\n",
            "Test Class 4 Accuracy: 0.00%\n",
            "Test Class 5 Accuracy: 89.90%\n",
            "Test Class 6 Accuracy: 0.00%\n",
            "Test Class 7 Accuracy: 79.80%\n",
            "Test Class 8 Accuracy: 80.72%\n",
            "Test Class 9 Accuracy: 79.20%\n"
          ]
        }
      ]
    }
  ],
  "metadata": {
    "language_info": {
      "name": "python"
    },
    "colab": {
      "provenance": []
    },
    "kernelspec": {
      "name": "python3",
      "display_name": "Python 3"
    }
  },
  "nbformat": 4,
  "nbformat_minor": 0
}