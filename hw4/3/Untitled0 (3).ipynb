{
  "nbformat": 4,
  "nbformat_minor": 0,
  "metadata": {
    "colab": {
      "provenance": []
    },
    "kernelspec": {
      "name": "python3",
      "display_name": "Python 3"
    },
    "language_info": {
      "name": "python"
    }
  },
  "cells": [
    {
      "cell_type": "code",
      "execution_count": 1,
      "metadata": {
        "id": "pG2zq5FfW0ap"
      },
      "outputs": [],
      "source": [
        "!pip install -q kaggle"
      ]
    },
    {
      "cell_type": "code",
      "source": [
        "!mkdir -p ~/.kaggle\n",
        "!cp /content/kaggle.json ~/.kaggle/\n",
        "!chmod 600 ~/.kaggle/kaggle.json"
      ],
      "metadata": {
        "id": "S6g13-neW4Z-"
      },
      "execution_count": 3,
      "outputs": []
    },
    {
      "cell_type": "code",
      "source": [
        "! kaggle datasets download andradaolteanu/gtzan-dataset-music-genre-classification"
      ],
      "metadata": {
        "colab": {
          "base_uri": "https://localhost:8080/"
        },
        "id": "rmrWjBLDW7OR",
        "outputId": "1a44fec5-3d4f-407b-9d41-3629c99f2a55"
      },
      "execution_count": 4,
      "outputs": [
        {
          "output_type": "stream",
          "name": "stdout",
          "text": [
            "Dataset URL: https://www.kaggle.com/datasets/andradaolteanu/gtzan-dataset-music-genre-classification\n",
            "License(s): other\n",
            "Downloading gtzan-dataset-music-genre-classification.zip to /content\n",
            " 99% 1.20G/1.21G [00:08<00:00, 169MB/s]\n",
            "100% 1.21G/1.21G [00:08<00:00, 152MB/s]\n"
          ]
        }
      ]
    },
    {
      "cell_type": "code",
      "source": [
        "! unzip /content/gtzan-dataset-music-genre-classification.zip"
      ],
      "metadata": {
        "id": "gghYvfJBXF7P"
      },
      "execution_count": null,
      "outputs": []
    },
    {
      "cell_type": "code",
      "source": [
        "pip install np_utils"
      ],
      "metadata": {
        "colab": {
          "base_uri": "https://localhost:8080/"
        },
        "id": "cQQ0rUaiXqxk",
        "outputId": "72cc857e-f8ef-443a-9756-7c86d8208bda"
      },
      "execution_count": 9,
      "outputs": [
        {
          "output_type": "stream",
          "name": "stdout",
          "text": [
            "Collecting np_utils\n",
            "  Downloading np_utils-0.6.0.tar.gz (61 kB)\n",
            "\u001b[2K     \u001b[90m━━━━━━━━━━━━━━━━━━━━━━━━━━━━━━━━━━━━━━━━\u001b[0m \u001b[32m62.0/62.0 kB\u001b[0m \u001b[31m760.7 kB/s\u001b[0m eta \u001b[36m0:00:00\u001b[0m\n",
            "\u001b[?25h  Preparing metadata (setup.py) ... \u001b[?25l\u001b[?25hdone\n",
            "Requirement already satisfied: numpy>=1.0 in /usr/local/lib/python3.10/dist-packages (from np_utils) (1.25.2)\n",
            "Building wheels for collected packages: np_utils\n",
            "Installing collected packages: np_utils\n",
            "Successfully installed np_utils-0.6.0\n"
          ]
        }
      ]
    },
    {
      "cell_type": "code",
      "source": [
        "import numpy as np\n",
        "import tensorflow as tf\n",
        "from tensorflow.keras import layers, models\n",
        "from sklearn.model_selection import train_test_split\n",
        "from sklearn.preprocessing import LabelEncoder\n",
        "import os\n",
        "from tqdm import tqdm\n",
        "import librosa\n",
        "from skimage.transform import resize\n",
        "import matplotlib.pyplot as plt\n",
        "from tensorflow.keras import optimizers"
      ],
      "metadata": {
        "id": "8CrhIaLbXjfr"
      },
      "execution_count": 45,
      "outputs": []
    },
    {
      "cell_type": "code",
      "source": [
        "# Load data\n",
        "data_dir = \"/content/Data/genres_original\"\n",
        "\n",
        "\n",
        "genres = os.listdir(data_dir)\n",
        "num_samples_per_genre = 100\n",
        "audio_data = []\n",
        "labels = []\n",
        "\n",
        "# Define target size for spectrogram\n",
        "target_height = 128\n",
        "target_width = 128\n",
        "\n",
        "for genre in genres:\n",
        "    genre_dir = os.path.join(data_dir, genre)\n",
        "    for filename in tqdm(os.listdir(genre_dir)[:num_samples_per_genre]):\n",
        "        file_path = os.path.join(genre_dir, filename)\n",
        "        try:\n",
        "            signal, sr = librosa.load(file_path, sr=None)\n",
        "            mel_spec = librosa.feature.melspectrogram(y=signal, sr=sr)\n",
        "            mel_spec_db = librosa.power_to_db(mel_spec, ref=np.max)\n",
        "            mel_spec_db_resized = resize(mel_spec_db, (target_height, target_width), anti_aliasing=True)\n",
        "            mel_spec_db_resized = mel_spec_db_resized[..., np.newaxis]  # Add channel dimension\n",
        "            audio_data.append(mel_spec_db_resized)\n",
        "            labels.append(genre)\n",
        "        except Exception as e:\n",
        "            print(f\"Error loading {file_path}: {str(e)}\")\n",
        "\n"
      ],
      "metadata": {
        "colab": {
          "base_uri": "https://localhost:8080/"
        },
        "id": "ul3A3A4_eUYX",
        "outputId": "73fdd5ae-e49e-4839-ec1d-2b73eb269d54"
      },
      "execution_count": 22,
      "outputs": [
        {
          "output_type": "stream",
          "name": "stderr",
          "text": [
            "100%|██████████| 100/100 [00:09<00:00, 10.70it/s]\n",
            "100%|██████████| 100/100 [00:10<00:00,  9.10it/s]\n",
            "  0%|          | 0/100 [00:00<?, ?it/s]<ipython-input-22-95e55a3d94d4>:19: UserWarning: PySoundFile failed. Trying audioread instead.\n",
            "  signal, sr = librosa.load(file_path, sr=None)\n",
            "/usr/local/lib/python3.10/dist-packages/librosa/core/audio.py:184: FutureWarning: librosa.core.audio.__audioread_load\n",
            "\tDeprecated as of librosa version 0.10.0.\n",
            "\tIt will be removed in librosa version 1.0.\n",
            "  y, sr_native = __audioread_load(path, offset, duration, dtype)\n",
            "  3%|▎         | 3/100 [00:00<00:11,  8.72it/s]"
          ]
        },
        {
          "output_type": "stream",
          "name": "stdout",
          "text": [
            "Error loading /content/Data/genres_original/jazz/jazz.00054.wav: \n"
          ]
        },
        {
          "output_type": "stream",
          "name": "stderr",
          "text": [
            "100%|██████████| 100/100 [00:08<00:00, 12.25it/s]\n",
            "100%|██████████| 100/100 [00:09<00:00, 10.84it/s]\n",
            "100%|██████████| 100/100 [00:10<00:00,  9.71it/s]\n",
            "100%|██████████| 100/100 [00:07<00:00, 13.20it/s]\n",
            "100%|██████████| 100/100 [00:09<00:00, 10.12it/s]\n",
            "100%|██████████| 100/100 [00:08<00:00, 11.55it/s]\n",
            "100%|██████████| 100/100 [00:08<00:00, 11.72it/s]\n",
            "100%|██████████| 100/100 [00:11<00:00,  8.48it/s]\n"
          ]
        }
      ]
    },
    {
      "cell_type": "code",
      "source": [
        "audio_data = np.array(audio_data)\n",
        "labels = np.array(labels)"
      ],
      "metadata": {
        "id": "yzcZ5jfBi3u2"
      },
      "execution_count": 23,
      "outputs": []
    },
    {
      "cell_type": "code",
      "source": [
        "labelencoder = LabelEncoder()\n",
        "labels = labelencoder.fit_transform(labels)\n",
        "len(labelencoder.classes_)"
      ],
      "metadata": {
        "colab": {
          "base_uri": "https://localhost:8080/"
        },
        "id": "It3d11BOjB76",
        "outputId": "eb5a76ef-459c-4290-b66d-78893ade0da6"
      },
      "execution_count": 25,
      "outputs": [
        {
          "output_type": "execute_result",
          "data": {
            "text/plain": [
              "10"
            ]
          },
          "metadata": {},
          "execution_count": 25
        }
      ]
    },
    {
      "cell_type": "code",
      "source": [
        "# Split data into train and test sets\n",
        "X_train, X_test, y_train, y_test = train_test_split(audio_data, labels, test_size=0.2, random_state=42)\n"
      ],
      "metadata": {
        "id": "tgv8tf9XjfFS"
      },
      "execution_count": 33,
      "outputs": []
    },
    {
      "cell_type": "code",
      "source": [
        "len(np.unique(y_train))"
      ],
      "metadata": {
        "colab": {
          "base_uri": "https://localhost:8080/"
        },
        "id": "41fo_UJXmOU_",
        "outputId": "9005488f-362b-4663-eee0-43612df5987d"
      },
      "execution_count": 39,
      "outputs": [
        {
          "output_type": "execute_result",
          "data": {
            "text/plain": [
              "10"
            ]
          },
          "metadata": {},
          "execution_count": 39
        }
      ]
    },
    {
      "cell_type": "code",
      "source": [
        "# Build CNN model\n",
        "model = models.Sequential([\n",
        "    layers.Conv2D(32, (3, 3), activation='relu', input_shape=(target_height, target_width, 1)),\n",
        "    layers.MaxPooling2D(pool_size=(3, 3), strides=(2, 2), padding='valid'),\n",
        "    layers.BatchNormalization(),\n",
        "    layers.Flatten(),\n",
        "    layers.Dense(10, activation='softmax')\n",
        "])\n",
        "\n",
        "# Compile model\n",
        "adam = optimizers.Adam(learning_rate=1e-4)\n",
        "model.compile(optimizer=adam,\n",
        "\n",
        "              loss='sparse_categorical_crossentropy',\n",
        "              metrics=['accuracy'])\n",
        "model.summary()\n",
        "# Train model\n",
        "history = model.fit(X_train, y_train, epochs=30, batch_size=32, validation_data=(X_test, y_test))\n"
      ],
      "metadata": {
        "colab": {
          "base_uri": "https://localhost:8080/"
        },
        "id": "Za8lYPhRkQ7K",
        "outputId": "d46d060f-3fd6-4cfd-cd58-c16eb923192e"
      },
      "execution_count": 44,
      "outputs": [
        {
          "output_type": "stream",
          "name": "stdout",
          "text": [
            "Model: \"sequential_6\"\n",
            "_________________________________________________________________\n",
            " Layer (type)                Output Shape              Param #   \n",
            "=================================================================\n",
            " conv2d_5 (Conv2D)           (None, 126, 126, 32)      320       \n",
            "                                                                 \n",
            " max_pooling2d_5 (MaxPoolin  (None, 62, 62, 32)        0         \n",
            " g2D)                                                            \n",
            "                                                                 \n",
            " batch_normalization_5 (Bat  (None, 62, 62, 32)        128       \n",
            " chNormalization)                                                \n",
            "                                                                 \n",
            " flatten_5 (Flatten)         (None, 123008)            0         \n",
            "                                                                 \n",
            " dense_10 (Dense)            (None, 10)                1230090   \n",
            "                                                                 \n",
            "=================================================================\n",
            "Total params: 1230538 (4.69 MB)\n",
            "Trainable params: 1230474 (4.69 MB)\n",
            "Non-trainable params: 64 (256.00 Byte)\n",
            "_________________________________________________________________\n",
            "Epoch 1/30\n",
            "25/25 [==============================] - 14s 490ms/step - loss: 2.3407 - accuracy: 0.3579 - val_loss: 9.0888 - val_accuracy: 0.1850\n",
            "Epoch 2/30\n",
            "25/25 [==============================] - 12s 481ms/step - loss: 0.6814 - accuracy: 0.7722 - val_loss: 10.3134 - val_accuracy: 0.2150\n",
            "Epoch 3/30\n",
            "25/25 [==============================] - 12s 481ms/step - loss: 0.2848 - accuracy: 0.9262 - val_loss: 3.2320 - val_accuracy: 0.4250\n",
            "Epoch 4/30\n",
            "25/25 [==============================] - 13s 541ms/step - loss: 0.1357 - accuracy: 0.9862 - val_loss: 3.4309 - val_accuracy: 0.3150\n",
            "Epoch 5/30\n",
            "25/25 [==============================] - 13s 506ms/step - loss: 0.0831 - accuracy: 0.9912 - val_loss: 1.8752 - val_accuracy: 0.4950\n",
            "Epoch 6/30\n",
            "25/25 [==============================] - 14s 553ms/step - loss: 0.0458 - accuracy: 0.9975 - val_loss: 1.6690 - val_accuracy: 0.5100\n",
            "Epoch 7/30\n",
            "25/25 [==============================] - 13s 529ms/step - loss: 0.0347 - accuracy: 0.9987 - val_loss: 1.4149 - val_accuracy: 0.5550\n",
            "Epoch 8/30\n",
            "25/25 [==============================] - 12s 463ms/step - loss: 0.0214 - accuracy: 1.0000 - val_loss: 1.2880 - val_accuracy: 0.5750\n",
            "Epoch 9/30\n",
            "25/25 [==============================] - 13s 516ms/step - loss: 0.0147 - accuracy: 1.0000 - val_loss: 1.1633 - val_accuracy: 0.5950\n",
            "Epoch 10/30\n",
            "25/25 [==============================] - 13s 504ms/step - loss: 0.0122 - accuracy: 1.0000 - val_loss: 1.1085 - val_accuracy: 0.6100\n",
            "Epoch 11/30\n",
            "25/25 [==============================] - 13s 532ms/step - loss: 0.0098 - accuracy: 1.0000 - val_loss: 1.0666 - val_accuracy: 0.6400\n",
            "Epoch 12/30\n",
            "25/25 [==============================] - 14s 583ms/step - loss: 0.0087 - accuracy: 1.0000 - val_loss: 1.0828 - val_accuracy: 0.6350\n",
            "Epoch 13/30\n",
            "25/25 [==============================] - 13s 511ms/step - loss: 0.0077 - accuracy: 1.0000 - val_loss: 1.1057 - val_accuracy: 0.6350\n",
            "Epoch 14/30\n",
            "25/25 [==============================] - 14s 565ms/step - loss: 0.0063 - accuracy: 1.0000 - val_loss: 1.0585 - val_accuracy: 0.6600\n",
            "Epoch 15/30\n",
            "25/25 [==============================] - 13s 519ms/step - loss: 0.0056 - accuracy: 1.0000 - val_loss: 1.0359 - val_accuracy: 0.6400\n",
            "Epoch 16/30\n",
            "25/25 [==============================] - 14s 568ms/step - loss: 0.0045 - accuracy: 1.0000 - val_loss: 1.0705 - val_accuracy: 0.6600\n",
            "Epoch 17/30\n",
            "25/25 [==============================] - 15s 593ms/step - loss: 0.0043 - accuracy: 1.0000 - val_loss: 1.0606 - val_accuracy: 0.6650\n",
            "Epoch 18/30\n",
            "25/25 [==============================] - 13s 503ms/step - loss: 0.0033 - accuracy: 1.0000 - val_loss: 1.0459 - val_accuracy: 0.6750\n",
            "Epoch 19/30\n",
            "25/25 [==============================] - 11s 411ms/step - loss: 0.0031 - accuracy: 1.0000 - val_loss: 1.0521 - val_accuracy: 0.6650\n",
            "Epoch 20/30\n",
            "25/25 [==============================] - 13s 518ms/step - loss: 0.0027 - accuracy: 1.0000 - val_loss: 1.0530 - val_accuracy: 0.6700\n",
            "Epoch 21/30\n",
            "25/25 [==============================] - 13s 526ms/step - loss: 0.0025 - accuracy: 1.0000 - val_loss: 1.0537 - val_accuracy: 0.6600\n",
            "Epoch 22/30\n",
            "25/25 [==============================] - 13s 516ms/step - loss: 0.0024 - accuracy: 1.0000 - val_loss: 1.0546 - val_accuracy: 0.6550\n",
            "Epoch 23/30\n",
            "25/25 [==============================] - 13s 523ms/step - loss: 0.0020 - accuracy: 1.0000 - val_loss: 1.0708 - val_accuracy: 0.6550\n",
            "Epoch 24/30\n",
            "25/25 [==============================] - 13s 531ms/step - loss: 0.0018 - accuracy: 1.0000 - val_loss: 1.0794 - val_accuracy: 0.6700\n",
            "Epoch 25/30\n",
            "25/25 [==============================] - 13s 496ms/step - loss: 0.0017 - accuracy: 1.0000 - val_loss: 1.0790 - val_accuracy: 0.6750\n",
            "Epoch 26/30\n",
            "25/25 [==============================] - 11s 418ms/step - loss: 0.0016 - accuracy: 1.0000 - val_loss: 1.1019 - val_accuracy: 0.6700\n",
            "Epoch 27/30\n",
            "25/25 [==============================] - 12s 477ms/step - loss: 0.0015 - accuracy: 1.0000 - val_loss: 1.1023 - val_accuracy: 0.6750\n",
            "Epoch 28/30\n",
            "25/25 [==============================] - 13s 545ms/step - loss: 0.0014 - accuracy: 1.0000 - val_loss: 1.0971 - val_accuracy: 0.6750\n",
            "Epoch 29/30\n",
            "25/25 [==============================] - 13s 537ms/step - loss: 0.0014 - accuracy: 1.0000 - val_loss: 1.1132 - val_accuracy: 0.6850\n",
            "Epoch 30/30\n",
            "25/25 [==============================] - 13s 533ms/step - loss: 0.0012 - accuracy: 1.0000 - val_loss: 1.1232 - val_accuracy: 0.6800\n"
          ]
        }
      ]
    },
    {
      "cell_type": "code",
      "source": [
        "def plot_history(hist, accuracy=True):\n",
        "    plt.figure()\n",
        "    fig, axs = plt.subplots(1)\n",
        "    if(accuracy):\n",
        "       # accuracy subplot\n",
        "       axs.plot(hist.history[\"accuracy\"], label=\"train accuracy\")\n",
        "       axs.plot(hist.history[\"val_accuracy\"], label=\"test accuracy\")\n",
        "       axs.set_ylabel(\"Accuracy\")\n",
        "       axs.legend(loc=\"lower right\")\n",
        "       axs.set_title(\"Accuracy eval\")\n",
        "    else:\n",
        "       # Error subplot\n",
        "       axs.plot(hist.history[\"loss\"], label=\"train error\")\n",
        "       axs.plot(hist.history[\"val_loss\"], label=\"test error\")\n",
        "       axs.set_ylabel(\"Error\")\n",
        "       axs.set_xlabel(\"Epoch\")\n",
        "       axs.legend(loc=\"upper right\")\n",
        "       axs.set_title(\"Error eval\")\n",
        "\n",
        "    plt.show()"
      ],
      "metadata": {
        "id": "junL7rHroHnt"
      },
      "execution_count": 60,
      "outputs": []
    },
    {
      "cell_type": "code",
      "source": [
        "# Retrieve training and validation accuracy\n",
        "train_accuracy = history.history['accuracy'][-1]  # Last epoch accuracy\n",
        "test_accuracy = history.history['val_accuracy'][-1]  # Last epoch validation accuracy\n",
        "\n",
        "# Print accuracies\n",
        "print('Training accuracy:', train_accuracy)\n",
        "print('Test accuracy:', test_accuracy)\n"
      ],
      "metadata": {
        "colab": {
          "base_uri": "https://localhost:8080/"
        },
        "id": "Rzqr4K_1mDx7",
        "outputId": "9e68f951-c1cd-4d87-88df-3f5803873ab2"
      },
      "execution_count": 58,
      "outputs": [
        {
          "output_type": "stream",
          "name": "stdout",
          "text": [
            "Training accuracy: 1.0\n",
            "Test accuracy: 0.6800000071525574\n"
          ]
        }
      ]
    },
    {
      "cell_type": "code",
      "source": [
        "plot_history(history)"
      ],
      "metadata": {
        "colab": {
          "base_uri": "https://localhost:8080/",
          "height": 469
        },
        "id": "hHwdeowUpRXW",
        "outputId": "0ec9aca9-7b70-47d7-f85a-5841cf98260f"
      },
      "execution_count": 61,
      "outputs": [
        {
          "output_type": "display_data",
          "data": {
            "text/plain": [
              "<Figure size 640x480 with 0 Axes>"
            ]
          },
          "metadata": {}
        },
        {
          "output_type": "display_data",
          "data": {
            "text/plain": [
              "<Figure size 640x480 with 1 Axes>"
            ],
            "image/png": "[encoded data removed]"
          },
          "metadata": {}
        }
      ]
    },
    {
      "cell_type": "code",
      "source": [
        "plot_history(history,accuracy=False)"
      ],
      "metadata": {
        "colab": {
          "base_uri": "https://localhost:8080/",
          "height": 489
        },
        "id": "gzOYikwCqMtm",
        "outputId": "a8f10c2b-d52b-46f2-c080-b09357eb2543"
      },
      "execution_count": 63,
      "outputs": [
        {
          "output_type": "display_data",
          "data": {
            "text/plain": [
              "<Figure size 640x480 with 0 Axes>"
            ]
          },
          "metadata": {}
        },
        {
          "output_type": "display_data",
          "data": {
            "text/plain": [
              "<Figure size 640x480 with 1 Axes>"
            ],
            "image/png": "[encoded data removed]"
          },
          "metadata": {}
        }
      ]
    },
    {
      "cell_type": "code",
      "source": [
        "from sklearn.metrics import classification_report, accuracy_score\n",
        "# Predict classes\n",
        "y_pred = np.argmax(model.predict(X_test), axis=-1)\n",
        "\n",
        "# Classification report\n",
        "report = classification_report(y_test, y_pred, target_names=genres)\n",
        "print(report)"
      ],
      "metadata": {
        "colab": {
          "base_uri": "https://localhost:8080/"
        },
        "id": "Bct_j8vAqDSr",
        "outputId": "3883c677-f3ce-467c-d7dd-f174e2ac8a05"
      },
      "execution_count": 65,
      "outputs": [
        {
          "output_type": "stream",
          "name": "stdout",
          "text": [
            "7/7 [==============================] - 1s 151ms/step\n",
            "              precision    recall  f1-score   support\n",
            "\n",
            "       blues       0.73      0.52      0.61        21\n",
            "     country       0.78      0.90      0.84        20\n",
            "        jazz       0.42      0.83      0.56        12\n",
            "       disco       0.58      0.61      0.60        23\n",
            "       metal       0.94      0.73      0.82        22\n",
            "        rock       0.88      0.61      0.72        23\n",
            "         pop       0.71      1.00      0.83        15\n",
            "      reggae       0.62      0.83      0.71        18\n",
            "      hiphop       0.68      0.68      0.68        19\n",
            "   classical       0.59      0.37      0.45        27\n",
            "\n",
            "    accuracy                           0.68       200\n",
            "   macro avg       0.69      0.71      0.68       200\n",
            "weighted avg       0.71      0.68      0.68       200\n",
            "\n"
          ]
        }
      ]
    },
    {
      "cell_type": "code",
      "source": [],
      "metadata": {
        "id": "1epunB7Rrcm_"
      },
      "execution_count": null,
      "outputs": []
    }
  ]
}