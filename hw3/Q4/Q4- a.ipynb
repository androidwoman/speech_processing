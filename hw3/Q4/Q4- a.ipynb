{
 "cells": [
  {
   "cell_type": "code",
   "execution_count": 36,
   "metadata": {},
   "outputs": [],
   "source": [
    "import os\n",
    "import numpy as np\n",
    "import librosa\n",
    "from sklearn.neighbors import KNeighborsClassifier\n",
    "from sklearn.metrics import accuracy_score"
   ]
  },
  {
   "cell_type": "code",
   "execution_count": 37,
   "metadata": {},
   "outputs": [],
   "source": [
    "def load_audio_with_padding(file_path, target_duration):\n",
    "    audio, sr = librosa.load(file_path, sr=None,)\n",
    "    if len(audio) < target_duration:\n",
    "        pad_width = int(target_duration - len(audio))\n",
    "        audio = np.pad(audio, pad_width=((0, pad_width)), mode='constant')\n",
    "    return audio, sr\n"
   ]
  },
  {
   "cell_type": "code",
   "execution_count": 38,
   "metadata": {},
   "outputs": [],
   "source": [
    "# Function to extract MFCC features from audio file\n",
    "def extract_mfcc(file_path, num_mfcc=12,num_mel_filters=24,frame_length = 0.020 ,target_duration=None ):\n",
    "    audio, sr = load_audio_with_padding(file_path, target_duration)\n",
    "    mfccs = librosa.feature.mfcc(y=audio, sr=sr, n_mfcc=num_mfcc,n_mels=num_mel_filters,n_fft=int(sr * frame_length))\n",
    "   \n",
    "    mfcc_delta = librosa.feature.delta(mfccs)\n",
    "    \n",
    "    mfcc_delta2 = librosa.feature.delta(mfccs, order=2)\n",
    "   \n",
    "    return np.hstack((np.mean(mfccs,axis=1), np.mean(mfcc_delta,axis=1), np.mean(mfcc_delta2,axis=1)))"
   ]
  },
  {
   "cell_type": "code",
   "execution_count": 39,
   "metadata": {},
   "outputs": [],
   "source": [
    "train_data_dir = \"TrainSet\"\n",
    "test_data_dir = \"TestSet\"\n",
    "\n",
    "train_durations = []\n",
    "for root, dirs, files in os.walk(train_data_dir):\n",
    "    for file in files:\n",
    "        if file.endswith('.wav'):\n",
    "            file_path = os.path.join(root, file)\n",
    "            audio, sr = librosa.load(file_path, sr=None)\n",
    "            train_durations.append(len(audio))\n",
    "\n",
    "test_durations = []\n",
    "for root, dirs, files in os.walk(test_data_dir):\n",
    "    for file in files:\n",
    "        if file.endswith('.wav'):\n",
    "            file_path = os.path.join(root, file)\n",
    "            audio, sr = librosa.load(file_path, sr=None)\n",
    "            test_durations.append(len(audio))\n",
    "\n",
    "target_duration = max(max(train_durations), max(test_durations))\n"
   ]
  },
  {
   "cell_type": "code",
   "execution_count": 40,
   "metadata": {},
   "outputs": [
    {
     "data": {
      "text/plain": [
       "15564"
      ]
     },
     "execution_count": 40,
     "metadata": {},
     "output_type": "execute_result"
    }
   ],
   "source": [
    "target_duration"
   ]
  },
  {
   "cell_type": "code",
   "execution_count": 41,
   "metadata": {},
   "outputs": [],
   "source": [
    "# Function to load data and extract features\n",
    "def load_data(data_dir, num_mfcc=12):\n",
    "    labels = []\n",
    "    features = []\n",
    "\n",
    "    for root, dirs, files in os.walk(data_dir):\n",
    "        for file in files:\n",
    "            if file.endswith('.wav'):\n",
    "                file_path = os.path.join(root, file)\n",
    "                label = int(os.path.basename(root))\n",
    "                labels.append(label)\n",
    "                mfcc = extract_mfcc(file_path, num_mfcc=num_mfcc,target_duration=target_duration)\n",
    "                features.append(mfcc)\n",
    "\n",
    "\n",
    "\n",
    "\n",
    "    return features, labels"
   ]
  },
  {
   "cell_type": "code",
   "execution_count": 42,
   "metadata": {},
   "outputs": [],
   "source": [
    "\n",
    "\n",
    "# Load training data\n",
    "train_data_dir = \"TrainSet\"\n",
    "X_train, y_train = load_data(train_data_dir)\n",
    "\n",
    "# Load test data\n",
    "test_data_dir = \"TestSet\"\n",
    "X_test, y_test = load_data(test_data_dir)\n",
    "\n",
    "\n"
   ]
  },
  {
   "cell_type": "code",
   "execution_count": 43,
   "metadata": {},
   "outputs": [],
   "source": [
    "X_train =  np.array(X_train)\n",
    "\n",
    "X_test = np.array(X_test)"
   ]
  },
  {
   "cell_type": "code",
   "execution_count": 44,
   "metadata": {},
   "outputs": [
    {
     "name": "stdout",
     "output_type": "stream",
     "text": [
      "(296, 36) (1900, 36)\n"
     ]
    }
   ],
   "source": [
    "print(X_test.shape,X_train.shape)"
   ]
  },
  {
   "cell_type": "code",
   "execution_count": 45,
   "metadata": {},
   "outputs": [
    {
     "name": "stdout",
     "output_type": "stream",
     "text": [
      "Accuracy for K=7: 0.46283783783783783\n",
      "Accuracy for K=11: 0.4831081081081081\n",
      "Accuracy for K=15: 0.46959459459459457\n",
      "Accuracy for K=20: 0.46959459459459457\n"
     ]
    }
   ],
   "source": [
    "\n",
    "# Define K values for KNN\n",
    "k_values = [7, 11, 15, 20]\n",
    "\n",
    "# Iterate over K values\n",
    "for k in k_values:\n",
    "    # Train KNN model\n",
    "    knn = KNeighborsClassifier(n_neighbors=k)\n",
    "    knn.fit(X_train, y_train)\n",
    "\n",
    "    # Predict labels for test data\n",
    "    y_pred = knn.predict(X_test)\n",
    "\n",
    "    # Calculate accuracy\n",
    "    accuracy = accuracy_score(y_test, y_pred)\n",
    "    print(f\"Accuracy for K={k}: {accuracy}\")\n"
   ]
  },
  {
   "cell_type": "code",
   "execution_count": 46,
   "metadata": {},
   "outputs": [
    {
     "name": "stdout",
     "output_type": "stream",
     "text": [
      "Accuracy of SVM with linear kernel using MFCC features: 0.7297297297297297\n",
      "Accuracy of SVM with polynomial kernel using MFCC features: 0.20945945945945946\n"
     ]
    }
   ],
   "source": [
    "from sklearn.svm import SVC\n",
    "from sklearn.metrics import accuracy_score\n",
    "\n",
    "\n",
    "# SVM with linear kernel using MFCC features\n",
    "svm_linear_mfcc = SVC(kernel='linear')\n",
    "svm_linear_mfcc.fit(X_train, y_train)\n",
    "y_pred_linear_mfcc = svm_linear_mfcc.predict(X_test)\n",
    "accuracy_linear_mfcc = accuracy_score(y_test, y_pred_linear_mfcc)\n",
    "print(\"Accuracy of SVM with linear kernel using MFCC features:\", accuracy_linear_mfcc)\n",
    "\n",
    "# SVM with polynomial kernel using MFCC features\n",
    "svm_poly_mfcc = SVC(kernel='poly')\n",
    "svm_poly_mfcc.fit(X_train, y_train)\n",
    "y_pred_poly_mfcc = svm_poly_mfcc.predict(X_test)\n",
    "accuracy_poly_mfcc = accuracy_score(y_test, y_pred_poly_mfcc)\n",
    "print(\"Accuracy of SVM with polynomial kernel using MFCC features:\", accuracy_poly_mfcc)\n",
    "\n",
    "\n"
   ]
  },
  {
   "cell_type": "code",
   "execution_count": null,
   "metadata": {},
   "outputs": [],
   "source": []
  }
 ],
 "metadata": {
  "kernelspec": {
   "display_name": "myenv",
   "language": "python",
   "name": "python3"
  },
  "language_info": {
   "codemirror_mode": {
    "name": "ipython",
    "version": 3
   },
   "file_extension": ".py",
   "mimetype": "text/x-python",
   "name": "python",
   "nbconvert_exporter": "python",
   "pygments_lexer": "ipython3",
   "version": "3.10.13"
  }
 },
 "nbformat": 4,
 "nbformat_minor": 2
}
