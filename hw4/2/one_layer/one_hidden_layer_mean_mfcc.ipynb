{
  "cells": [
    {
      "cell_type": "code",
      "execution_count": 1,
      "metadata": {
        "id": "ekDwtomm3egQ"
      },
      "outputs": [],
      "source": [
        "!pip install -q kaggle"
      ]
    },
    {
      "cell_type": "code",
      "execution_count": 2,
      "metadata": {
        "id": "Kh8rq37I3egS",
        "colab": {
          "base_uri": "https://localhost:8080/"
        },
        "outputId": "3fb4a4b6-297f-4be1-9d79-177e7eb79053"
      },
      "outputs": [
        {
          "output_type": "stream",
          "name": "stdout",
          "text": [
            "cp: cannot stat '/content/kaggle.json': No such file or directory\n",
            "chmod: cannot access '/root/.kaggle/kaggle.json': No such file or directory\n"
          ]
        }
      ],
      "source": [
        "!mkdir -p ~/.kaggle\n",
        "!cp /content/kaggle.json ~/.kaggle/\n",
        "!chmod 600 ~/.kaggle/kaggle.json"
      ]
    },
    {
      "cell_type": "code",
      "source": [
        "! kaggle datasets download sripaadsrinivasan/audio-mnist"
      ],
      "metadata": {
        "colab": {
          "base_uri": "https://localhost:8080/"
        },
        "id": "kj0adTX73tpa",
        "outputId": "511be9e8-da35-4d8f-eacc-a59a55406d5c"
      },
      "execution_count": 3,
      "outputs": [
        {
          "output_type": "stream",
          "name": "stdout",
          "text": [
            "Dataset URL: https://www.kaggle.com/datasets/sripaadsrinivasan/audio-mnist\n",
            "License(s): CC0-1.0\n",
            "Downloading audio-mnist.zip to /content\n",
            " 98% 934M/948M [00:12<00:00, 76.2MB/s]\n",
            "100% 948M/948M [00:12<00:00, 78.8MB/s]\n"
          ]
        }
      ]
    },
    {
      "cell_type": "code",
      "execution_count": null,
      "metadata": {
        "id": "yHXdiD3u3egT"
      },
      "outputs": [],
      "source": [
        "! unzip /content/audio-mnist.zip"
      ]
    },
    {
      "cell_type": "code",
      "execution_count": 5,
      "metadata": {
        "colab": {
          "base_uri": "https://localhost:8080/"
        },
        "id": "Hg5G0Wiy3egT",
        "outputId": "ab056b28-91a5-4a11-9915-2672c61ab876"
      },
      "outputs": [
        {
          "output_type": "stream",
          "name": "stderr",
          "text": [
            "Loading dataset: 100%|██████████| 61/61 [00:51<00:00,  1.18it/s]"
          ]
        },
        {
          "output_type": "stream",
          "name": "stdout",
          "text": [
            "Training set size: 24000\n",
            "Test set size: 6000\n"
          ]
        },
        {
          "output_type": "stream",
          "name": "stderr",
          "text": [
            "\n"
          ]
        }
      ],
      "source": [
        "import os\n",
        "import librosa\n",
        "import numpy as np\n",
        "from sklearn.model_selection import train_test_split\n",
        "from tqdm import tqdm  # Import tqdm for progress indication\n",
        "\n",
        "# Path to the dataset\n",
        "dataset_path = '/content/data'\n",
        "\n",
        "# Load dataset\n",
        "def load_audio_files(dataset_path):\n",
        "    X = []\n",
        "    y = []\n",
        "    for folder in tqdm(os.listdir(dataset_path), desc='Loading dataset'):  # Add tqdm here\n",
        "        folder_path = os.path.join(dataset_path, folder)\n",
        "        if not os.path.isdir(folder_path):  # Check if it's a directory\n",
        "            continue\n",
        "        for file in os.listdir(folder_path):\n",
        "            if file.endswith('.wav'):\n",
        "                file_path = os.path.join(folder_path, file)\n",
        "                audio, sr = librosa.load(file_path, sr=16000)\n",
        "                X.append(audio)\n",
        "                label = int(file.split('_')[0])\n",
        "                y.append(label)\n",
        "    return X, y\n",
        "\n",
        "# Load the dataset\n",
        "X, y = load_audio_files(dataset_path)\n",
        "\n",
        "# Split dataset into train/test sets\n",
        "X_train, X_test, y_train, y_test = train_test_split(X, y, test_size=0.2, random_state=42)\n",
        "\n",
        "# Output the sizes of the splits\n",
        "print(f\"Training set size: {len(X_train)}\")\n",
        "print(f\"Test set size: {len(X_test)}\")\n",
        "\n"
      ]
    },
    {
      "cell_type": "code",
      "source": [
        "def extract_mfcc_features(audio, sr, n_mfcc=12, frame_length=0.025, hop_length=0.01):\n",
        "    mfcc = librosa.feature.mfcc(y=audio, sr=sr, n_mfcc=n_mfcc, n_fft=int(frame_length*sr), n_mels=24)\n",
        "    mean = np.mean(mfcc, axis=1)\n",
        "    return mean\n",
        "\n",
        "# Extract MFCC features for the dataset\n",
        "X_train_mfcc = [extract_mfcc_features(x, 16000) for x in X_train]\n",
        "X_test_mfcc = [extract_mfcc_features(x, 16000) for x in X_test]\n",
        "\n",
        "\n",
        "\n",
        "\n",
        "# Convert to numpy arrays\n",
        "X_train_mfcc = np.array(X_train_mfcc)\n",
        "X_test_mfcc = np.array(X_test_mfcc)\n",
        "y_train = np.array(y_train)\n",
        "y_test = np.array(y_test)\n",
        "\n",
        "print(\"MFCC feature extraction complete.\")\n"
      ],
      "metadata": {
        "colab": {
          "base_uri": "https://localhost:8080/"
        },
        "id": "hyXbIiPR45Wh",
        "outputId": "0a6793f6-d24e-49a7-882e-17b9d4d37dc0"
      },
      "execution_count": 7,
      "outputs": [
        {
          "output_type": "stream",
          "name": "stdout",
          "text": [
            "MFCC feature extraction complete.\n"
          ]
        }
      ]
    },
    {
      "cell_type": "code",
      "source": [
        "X_train_mfcc.shape"
      ],
      "metadata": {
        "colab": {
          "base_uri": "https://localhost:8080/"
        },
        "id": "71-YFw885bB9",
        "outputId": "806c94fc-ce23-47af-d3b2-d72f9099b695"
      },
      "execution_count": 8,
      "outputs": [
        {
          "output_type": "execute_result",
          "data": {
            "text/plain": [
              "(24000, 12)"
            ]
          },
          "metadata": {},
          "execution_count": 8
        }
      ]
    },
    {
      "cell_type": "code",
      "source": [
        "import numpy as np\n",
        "import matplotlib.pyplot as plt\n",
        "\n",
        "def softmax(x):\n",
        "    exp_values = np.exp(x - np.max(x, axis=1, keepdims=True))\n",
        "    return exp_values / np.sum(exp_values, axis=1, keepdims=True)\n",
        "\n",
        "def bipolar_sigmoid(x):\n",
        "    return (2 / (1 + np.exp(-x))) - 1\n",
        "\n",
        "def bipolar_sigmoid_derivative(x):\n",
        "    return 0.5 * (1 + bipolar_sigmoid(x)) * (1 - bipolar_sigmoid(x))\n",
        "\n",
        "# Mean Squared Error\n",
        "def mse(y_true, y_pred):\n",
        "    return np.mean((y_true - y_pred) ** 2)\n",
        "\n",
        "# MLP class\n",
        "class MLP:\n",
        "    def __init__(self, input_size, hidden_size, output_size, learning_rate=0.001):\n",
        "        self.input_size = input_size\n",
        "        self.hidden_size = hidden_size\n",
        "        self.output_size = output_size\n",
        "        self.learning_rate = learning_rate\n",
        "\n",
        "        # Weights initialization\n",
        "        self.weights_input_hidden = np.random.randn(self.input_size, self.hidden_size) * 0.01\n",
        "        self.weights_hidden_output = np.random.randn(self.hidden_size, self.output_size) * 0.01\n",
        "\n",
        "        # Bias initialization\n",
        "        self.bias_hidden = np.zeros((1, self.hidden_size))\n",
        "        self.bias_output = np.zeros((1, self.output_size))\n",
        "\n",
        "    def forward(self, X):\n",
        "        self.hidden_input = np.dot(X, self.weights_input_hidden) + self.bias_hidden\n",
        "        self.hidden_output = bipolar_sigmoid(self.hidden_input)\n",
        "\n",
        "        self.output_input = np.dot(self.hidden_output, self.weights_hidden_output) + self.bias_output\n",
        "        self.output_output = bipolar_sigmoid(self.output_input)\n",
        "\n",
        "        return self.output_output\n",
        "\n",
        "    def backward(self, X, y, output):\n",
        "        output_error = y - output\n",
        "        output_delta = output_error * bipolar_sigmoid_derivative(self.output_input)\n",
        "\n",
        "        hidden_error = np.dot(output_delta, self.weights_hidden_output.T)\n",
        "        hidden_delta = hidden_error * bipolar_sigmoid_derivative(self.hidden_input)\n",
        "\n",
        "        self.weights_hidden_output += self.learning_rate * np.dot(self.hidden_output.T, output_delta)\n",
        "        self.weights_input_hidden += self.learning_rate * np.dot(X.T, hidden_delta)\n",
        "\n",
        "        self.bias_output += self.learning_rate * np.sum(output_delta, axis=0, keepdims=True)\n",
        "        self.bias_hidden += self.learning_rate * np.sum(hidden_delta, axis=0, keepdims=True)\n",
        "\n",
        "    def train(self, X, y, epochs=30):\n",
        "        mse_errors = []\n",
        "        accuracies = []\n",
        "\n",
        "        for epoch in range(epochs):\n",
        "            total_error = 0\n",
        "            correct_predictions = 0\n",
        "            class_correct = np.zeros(self.output_size)\n",
        "            class_total = np.zeros(self.output_size)\n",
        "\n",
        "            for i in range(len(X)):\n",
        "                X_sample = X[i].reshape(1, -1)\n",
        "                y_sample = y[i].reshape(1, -1)\n",
        "\n",
        "                output = self.forward(X_sample)\n",
        "\n",
        "                self.backward(X_sample, y_sample, output)\n",
        "\n",
        "                # Calculate accuracy\n",
        "                predicted_class = np.argmax(softmax(output))\n",
        "                true_class = np.argmax(y_sample)\n",
        "                if predicted_class == true_class:\n",
        "                    correct_predictions += 1\n",
        "                    class_correct[true_class] += 1\n",
        "                class_total[true_class] += 1\n",
        "\n",
        "                total_error += mse(y_sample, output)\n",
        "\n",
        "            avg_error = total_error / len(X)\n",
        "            accuracy = correct_predictions / len(X)\n",
        "            mse_errors.append(avg_error)\n",
        "            accuracies.append(accuracy)\n",
        "            print(f\"Epoch {epoch+1}/{epochs}, Avg Error: {avg_error:.6f}, Accuracy: {accuracy:.6f}\")\n",
        "\n",
        "            # Print accuracy for each class\n",
        "            for i in range(self.output_size):\n",
        "                class_accuracy = class_correct[i] / class_total[i] if class_total[i] > 0 else 0\n",
        "                print(f\"Class {i} Accuracy: {class_accuracy:.6f}\")\n",
        "\n",
        "        return mse_errors, accuracies\n",
        "\n",
        "    def predict(self, X):\n",
        "        output = self.forward(X)\n",
        "        return np.argmax(softmax(output), axis=1)\n",
        "\n",
        "# Define the size of the input, hidden and output layers\n",
        "input_size = X_train_mfcc.shape[1]\n",
        "hidden_size = (input_size + 10) // 2\n",
        "output_size = 10\n",
        "\n",
        "# Initialize the MLP\n",
        "mlp = MLP(input_size=input_size, hidden_size=hidden_size, output_size=output_size, learning_rate=0.001)\n",
        "\n",
        "#  one-hot encoding\n",
        "def to_one_hot(y, num_classes):\n",
        "    one_hot = np.zeros((y.shape[0], num_classes))\n",
        "    one_hot[np.arange(y.shape[0]), y] = 1\n",
        "    return one_hot\n",
        "\n",
        "y_train_one_hot = to_one_hot(y_train, output_size)\n",
        "\n",
        "# Train the MLP\n",
        "mse_errors, accuracies = mlp.train(X_train_mfcc, y_train_one_hot, epochs=5)\n"
      ],
      "metadata": {
        "id": "Agvggiuw6JkH",
        "colab": {
          "base_uri": "https://localhost:8080/"
        },
        "outputId": "98351d3f-f528-4a24-b763-10cb2f36c43b"
      },
      "execution_count": 9,
      "outputs": [
        {
          "output_type": "stream",
          "name": "stdout",
          "text": [
            "Epoch 1/5, Avg Error: 0.084970, Accuracy: 0.202792\n",
            "Class 0 Accuracy: 0.035850\n",
            "Class 1 Accuracy: 0.254223\n",
            "Class 2 Accuracy: 0.047879\n",
            "Class 3 Accuracy: 0.083578\n",
            "Class 4 Accuracy: 0.465010\n",
            "Class 5 Accuracy: 0.154198\n",
            "Class 6 Accuracy: 0.529734\n",
            "Class 7 Accuracy: 0.022028\n",
            "Class 8 Accuracy: 0.250930\n",
            "Class 9 Accuracy: 0.182418\n",
            "Epoch 2/5, Avg Error: 0.071180, Accuracy: 0.449833\n",
            "Class 0 Accuracy: 0.055251\n",
            "Class 1 Accuracy: 0.604038\n",
            "Class 2 Accuracy: 0.082318\n",
            "Class 3 Accuracy: 0.087358\n",
            "Class 4 Accuracy: 0.749482\n",
            "Class 5 Accuracy: 0.704904\n",
            "Class 6 Accuracy: 0.953184\n",
            "Class 7 Accuracy: 0.326268\n",
            "Class 8 Accuracy: 0.850765\n",
            "Class 9 Accuracy: 0.076764\n",
            "Epoch 3/5, Avg Error: 0.064903, Accuracy: 0.514042\n",
            "Class 0 Accuracy: 0.040911\n",
            "Class 1 Accuracy: 0.587557\n",
            "Class 2 Accuracy: 0.012600\n",
            "Class 3 Accuracy: 0.041159\n",
            "Class 4 Accuracy: 0.783023\n",
            "Class 5 Accuracy: 0.744805\n",
            "Class 6 Accuracy: 0.941797\n",
            "Class 7 Accuracy: 0.677889\n",
            "Class 8 Accuracy: 0.908640\n",
            "Class 9 Accuracy: 0.388362\n",
            "Epoch 4/5, Avg Error: 0.062850, Accuracy: 0.534250\n",
            "Class 0 Accuracy: 0.040489\n",
            "Class 1 Accuracy: 0.544705\n",
            "Class 2 Accuracy: 0.003360\n",
            "Class 3 Accuracy: 0.033599\n",
            "Class 4 Accuracy: 0.803313\n",
            "Class 5 Accuracy: 0.766002\n",
            "Class 6 Accuracy: 0.936314\n",
            "Class 7 Accuracy: 0.731089\n",
            "Class 8 Accuracy: 0.925589\n",
            "Class 9 Accuracy: 0.542716\n",
            "Epoch 5/5, Avg Error: 0.061813, Accuracy: 0.544792\n",
            "Class 0 Accuracy: 0.043863\n",
            "Class 1 Accuracy: 0.554182\n",
            "Class 2 Accuracy: 0.003360\n",
            "Class 3 Accuracy: 0.023940\n",
            "Class 4 Accuracy: 0.817391\n",
            "Class 5 Accuracy: 0.791355\n",
            "Class 6 Accuracy: 0.942640\n",
            "Class 7 Accuracy: 0.729842\n",
            "Class 8 Accuracy: 0.935924\n",
            "Class 9 Accuracy: 0.589352\n"
          ]
        }
      ]
    },
    {
      "cell_type": "code",
      "source": [
        "\n",
        "# Plot MSE errors\n",
        "plt.figure(figsize=(10, 5))\n",
        "plt.plot(mse_errors, label='MSE Error')\n",
        "plt.xlabel('Epochs')\n",
        "plt.ylabel('MSE')\n",
        "plt.title('MSE Error over Epochs')\n",
        "plt.legend()\n",
        "plt.show()\n",
        "\n",
        "\n",
        "\n",
        "\n"
      ],
      "metadata": {
        "id": "4F_H6VW5XV1V",
        "colab": {
          "base_uri": "https://localhost:8080/",
          "height": 487
        },
        "outputId": "6f794769-f6ee-4258-c3e2-627636c0f279"
      },
      "execution_count": 10,
      "outputs": [
        {
          "output_type": "display_data",
          "data": {
            "text/plain": [
              "<Figure size 1000x500 with 1 Axes>"
            ],
            "image/png": "[encoded data removed]"
          },
          "metadata": {}
        }
      ]
    },
    {
      "cell_type": "code",
      "source": [
        "# Plot accuracies\n",
        "plt.figure(figsize=(10, 5))\n",
        "plt.plot(accuracies, label='Accuracy')\n",
        "plt.xlabel('Epochs')\n",
        "plt.ylabel('Accuracy')\n",
        "plt.title('Accuracy over Epochs')\n",
        "plt.legend()\n",
        "plt.show()"
      ],
      "metadata": {
        "id": "uMjiFu9LbTuU",
        "colab": {
          "base_uri": "https://localhost:8080/",
          "height": 487
        },
        "outputId": "aa9af7ad-cba2-44f0-a285-9c43c553edce"
      },
      "execution_count": 11,
      "outputs": [
        {
          "output_type": "display_data",
          "data": {
            "text/plain": [
              "<Figure size 1000x500 with 1 Axes>"
            ],
            "image/png": "[encoded data removed]"
          },
          "metadata": {}
        }
      ]
    },
    {
      "cell_type": "code",
      "source": [
        "# Predict on test data\n",
        "y_pred = mlp.predict(X_test_mfcc)\n",
        "\n",
        "# Calculate test accuracy\n",
        "test_accuracy = np.mean(y_pred == y_test)\n",
        "print(f'Test Accuracy: {test_accuracy * 100:.2f}%')\n",
        "\n",
        "# Calculate accuracy for each class on test data\n",
        "class_correct = np.zeros(output_size)\n",
        "class_total = np.zeros(output_size)\n",
        "\n",
        "for i in range(len(y_test)):\n",
        "    true_class = y_test[i]\n",
        "    predicted_class = y_pred[i]\n",
        "    if true_class == predicted_class:\n",
        "        class_correct[true_class] += 1\n",
        "    class_total[true_class] += 1\n",
        "\n",
        "for i in range(output_size):\n",
        "    class_accuracy = class_correct[i] / class_total[i] if class_total[i] > 0 else 0\n",
        "    print(f\"Test Class {i} Accuracy: {class_accuracy * 100:.2f}%\")"
      ],
      "metadata": {
        "id": "qcQk4zt8bSWT",
        "colab": {
          "base_uri": "https://localhost:8080/"
        },
        "outputId": "d9aa9a18-21ce-4e72-e3e6-f554767314f9"
      },
      "execution_count": 12,
      "outputs": [
        {
          "output_type": "stream",
          "name": "stdout",
          "text": [
            "Test Accuracy: 55.22%\n",
            "Test Class 0 Accuracy: 4.93%\n",
            "Test Class 1 Accuracy: 53.23%\n",
            "Test Class 2 Accuracy: 0.00%\n",
            "Test Class 3 Accuracy: 0.48%\n",
            "Test Class 4 Accuracy: 80.34%\n",
            "Test Class 5 Accuracy: 78.28%\n",
            "Test Class 6 Accuracy: 94.44%\n",
            "Test Class 7 Accuracy: 60.94%\n",
            "Test Class 8 Accuracy: 94.49%\n",
            "Test Class 9 Accuracy: 92.55%\n"
          ]
        }
      ]
    }
  ],
  "metadata": {
    "language_info": {
      "name": "python"
    },
    "colab": {
      "provenance": []
    },
    "kernelspec": {
      "name": "python3",
      "display_name": "Python 3"
    }
  },
  "nbformat": 4,
  "nbformat_minor": 0
}