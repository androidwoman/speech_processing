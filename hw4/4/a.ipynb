{
  "nbformat": 4,
  "nbformat_minor": 0,
  "metadata": {
    "colab": {
      "provenance": []
    },
    "kernelspec": {
      "name": "python3",
      "display_name": "Python 3"
    },
    "language_info": {
      "name": "python"
    }
  },
  "cells": [
    {
      "cell_type": "code",
      "execution_count": 1,
      "metadata": {
        "id": "pG2zq5FfW0ap"
      },
      "outputs": [],
      "source": [
        "!pip install -q kaggle"
      ]
    },
    {
      "cell_type": "code",
      "source": [
        "!mkdir -p ~/.kaggle\n",
        "!cp /content/kaggle.json ~/.kaggle/\n",
        "!chmod 600 ~/.kaggle/kaggle.json"
      ],
      "metadata": {
        "id": "S6g13-neW4Z-",
        "colab": {
          "base_uri": "https://localhost:8080/"
        },
        "outputId": "a149835b-bfc8-4be7-d8c7-6200567476cb"
      },
      "execution_count": 2,
      "outputs": [
        {
          "output_type": "stream",
          "name": "stdout",
          "text": [
            "cp: cannot stat '/content/kaggle.json': No such file or directory\n",
            "chmod: cannot access '/root/.kaggle/kaggle.json': No such file or directory\n"
          ]
        }
      ]
    },
    {
      "cell_type": "code",
      "source": [
        "! kaggle datasets download kongaevans/speaker-recognition-dataset"
      ],
      "metadata": {
        "colab": {
          "base_uri": "https://localhost:8080/"
        },
        "id": "rmrWjBLDW7OR",
        "outputId": "6f168cdc-99bb-43e5-dedf-6de9a9ed92cc"
      },
      "execution_count": 3,
      "outputs": [
        {
          "output_type": "stream",
          "name": "stdout",
          "text": [
            "Dataset URL: https://www.kaggle.com/datasets/kongaevans/speaker-recognition-dataset\n",
            "License(s): unknown\n",
            "Downloading speaker-recognition-dataset.zip to /content\n",
            " 95% 219M/231M [00:02<00:00, 123MB/s] \n",
            "100% 231M/231M [00:02<00:00, 87.9MB/s]\n"
          ]
        }
      ]
    },
    {
      "cell_type": "code",
      "source": [
        "! unzip /content/speaker-recognition-dataset.zip"
      ],
      "metadata": {
        "id": "gghYvfJBXF7P"
      },
      "execution_count": null,
      "outputs": []
    },
    {
      "cell_type": "code",
      "source": [
        "import os\n",
        "import numpy as np\n",
        "import librosa\n",
        "import pandas as pd\n",
        "from sklearn.preprocessing import StandardScaler\n",
        "from sklearn.linear_model import LogisticRegression\n",
        "\n",
        "import time\n",
        "from concurrent.futures import ThreadPoolExecutor\n",
        "from sklearn.model_selection import train_test_split\n",
        "from sklearn.linear_model import SGDClassifier\n",
        "from sklearn.metrics import confusion_matrix, classification_report"
      ],
      "metadata": {
        "id": "TnO0DSuI6iYF"
      },
      "execution_count": 5,
      "outputs": []
    },
    {
      "cell_type": "code",
      "source": [
        "def load_data(data_dir):\n",
        "    data = []\n",
        "    labels = []\n",
        "    speakers = ['Benjamin_Netanyau', 'Jens_Stoltenberg', 'Julia_Gillard', 'Magaret_Tarcher', 'Nelson_Mandela']\n",
        "\n",
        "    for speaker in speakers:\n",
        "        speaker_dir = os.path.join(data_dir, speaker)\n",
        "        for filename in os.listdir(speaker_dir):\n",
        "            if filename.endswith('.wav'):\n",
        "                file_path = os.path.join(speaker_dir, filename)\n",
        "                data.append(file_path)\n",
        "                labels.append(speaker)\n",
        "\n",
        "    return data, labels"
      ],
      "metadata": {
        "id": "1epunB7Rrcm_"
      },
      "execution_count": 6,
      "outputs": []
    },
    {
      "cell_type": "code",
      "source": [
        "data_dir = '/content/16000_pcm_speeches/'\n",
        "data, labels = load_data(data_dir)"
      ],
      "metadata": {
        "id": "EMxUnLFF6l5d"
      },
      "execution_count": 7,
      "outputs": []
    },
    {
      "cell_type": "code",
      "source": [
        "def extract_features(file_path):\n",
        "    y, sr = librosa.load(file_path, sr=16000)\n",
        "\n",
        "    #  Spectral Centroid\n",
        "    spectral_centroid = np.mean(librosa.feature.spectral_centroid(y=y, sr=sr))\n",
        "\n",
        "    #  Zero Crossing Rate\n",
        "    zero_crossing_rate = np.mean(librosa.feature.zero_crossing_rate(y))\n",
        "\n",
        "    #  Root Mean Square Energy\n",
        "    rmse = np.mean(librosa.feature.rms(y=y))\n",
        "\n",
        "    return [spectral_centroid, zero_crossing_rate, rmse]"
      ],
      "metadata": {
        "id": "RCK8SSk16rXq"
      },
      "execution_count": 8,
      "outputs": []
    },
    {
      "cell_type": "code",
      "source": [
        "def normalize_features(features):\n",
        "    scaler = StandardScaler()\n",
        "    return scaler.fit_transform(features)"
      ],
      "metadata": {
        "id": "iVNMuodY7mHU"
      },
      "execution_count": 9,
      "outputs": []
    },
    {
      "cell_type": "code",
      "source": [
        "start_time = time.time()\n",
        "features = [extract_features(file) for file in data]\n",
        "end_time = time.time()\n",
        "execution_time = end_time - start_time\n",
        "print(f\"time taken: {execution_time} s\")\n"
      ],
      "metadata": {
        "id": "dg-Sc33c7PBz",
        "outputId": "9aa3f983-797d-4b6e-aa67-96eb73e91c0d",
        "colab": {
          "base_uri": "https://localhost:8080/"
        }
      },
      "execution_count": 10,
      "outputs": [
        {
          "output_type": "stream",
          "name": "stdout",
          "text": [
            "time taken: 69.52728605270386 s\n"
          ]
        }
      ]
    },
    {
      "cell_type": "code",
      "source": [
        "from multiprocessing import cpu_count\n",
        "\n",
        "cpu_count()"
      ],
      "metadata": {
        "id": "gvvrULbA_lyd",
        "outputId": "cb4ea437-d320-4f22-e8af-0b888b226c4b",
        "colab": {
          "base_uri": "https://localhost:8080/"
        }
      },
      "execution_count": 11,
      "outputs": [
        {
          "output_type": "execute_result",
          "data": {
            "text/plain": [
              "2"
            ]
          },
          "metadata": {},
          "execution_count": 11
        }
      ]
    },
    {
      "cell_type": "code",
      "source": [
        "# Timing feature extraction in parallel\n",
        "start_time_parallel = time.time()\n",
        "\n",
        "with ThreadPoolExecutor() as executor:\n",
        "    features_parallel = executor.map(extract_features, data)\n",
        "\n",
        "\n",
        "end_time_parallel = time.time()\n",
        "execution_time_parallel = end_time_parallel - start_time_parallel\n",
        "print(f\"time taken for parallel: {execution_time_parallel} s\")\n"
      ],
      "metadata": {
        "id": "i91ocgS38Ykk",
        "outputId": "21ad257e-9015-4350-9168-aadda9cd5ac1",
        "colab": {
          "base_uri": "https://localhost:8080/"
        }
      },
      "execution_count": 12,
      "outputs": [
        {
          "output_type": "stream",
          "name": "stdout",
          "text": [
            "time taken for parallel: 37.71994400024414 s\n"
          ]
        }
      ]
    },
    {
      "cell_type": "code",
      "source": [
        "features = normalize_features(features)"
      ],
      "metadata": {
        "id": "A9s0uW1c9VhB"
      },
      "execution_count": 15,
      "outputs": []
    },
    {
      "cell_type": "code",
      "source": [
        "\n",
        "\n",
        "# Convert labels to numeric form\n",
        "label_mapping = {label: idx for idx, label in enumerate(set(labels))}\n",
        "numeric_labels = [label_mapping[label] for label in labels]\n",
        "\n",
        "\n"
      ],
      "metadata": {
        "id": "VUjMuES6AXU4"
      },
      "execution_count": 16,
      "outputs": []
    },
    {
      "cell_type": "code",
      "source": [
        "# Split the data into training and testing sets randomly\n",
        "X_train, X_test, y_train, y_test = train_test_split(features, numeric_labels, test_size=0.2, random_state=42)\n",
        "\n",
        "# Ensure balanced data split\n",
        "print(f\"Number of samples in training set: {len(X_train)}\")\n",
        "print(f\"Number of samples in testing set: {len(X_test)}\")"
      ],
      "metadata": {
        "id": "J1vJBl-6CfKS",
        "outputId": "c1abe763-4c6e-4f43-b6f9-5587a7c5fcbb",
        "colab": {
          "base_uri": "https://localhost:8080/"
        }
      },
      "execution_count": 24,
      "outputs": [
        {
          "output_type": "stream",
          "name": "stdout",
          "text": [
            "Number of samples in training set: 6000\n",
            "Number of samples in testing set: 1501\n"
          ]
        }
      ]
    },
    {
      "cell_type": "code",
      "source": [
        "\n",
        "from sklearn.metrics import confusion_matrix, classification_report\n",
        "\n",
        "# Define the SGDClassifier with logistic regression loss function\n",
        "model = SGDClassifier(loss='log_loss', max_iter=1000, learning_rate='constant', eta0=0.01)\n",
        "\n",
        "# Train the model\n",
        "model.fit(X_train, y_train)\n",
        "\n",
        "# Predict labels for the test set\n",
        "y_pred = model.predict(X_test)"
      ],
      "metadata": {
        "id": "D53juLb6Dcpq"
      },
      "execution_count": 25,
      "outputs": []
    },
    {
      "cell_type": "code",
      "source": [
        "\n",
        "\n",
        "\n",
        "\n",
        "# Calculate accuracy\n",
        "accuracy = model.score(X_test, y_test)\n",
        "print(f\"Accuracy: {accuracy}\")\n",
        "\n",
        "# Calculate confusion matrix\n",
        "conf_matrix = confusion_matrix(y_test, y_pred)\n",
        "print(\"Confusion Matrix:\")\n",
        "print(conf_matrix)\n",
        "\n",
        "# Calculate classification report (F1 score, recall, precision)\n",
        "report = classification_report(y_test, y_pred)\n",
        "print(\"Classification Report:\")\n",
        "print(report)\n"
      ],
      "metadata": {
        "id": "sH5OzTCcDHTJ",
        "outputId": "d367753a-caf3-4600-f62b-eb23b5a742e7",
        "colab": {
          "base_uri": "https://localhost:8080/"
        }
      },
      "execution_count": 26,
      "outputs": [
        {
          "output_type": "stream",
          "name": "stdout",
          "text": [
            "Accuracy: 0.664890073284477\n",
            "Confusion Matrix:\n",
            "[[202  73  15  17   3]\n",
            " [ 74 132  63  41   0]\n",
            " [  5  46 230   2   0]\n",
            " [ 14  10  16 170  73]\n",
            " [  0   0   0  51 264]]\n",
            "Classification Report:\n",
            "              precision    recall  f1-score   support\n",
            "\n",
            "           0       0.68      0.65      0.67       310\n",
            "           1       0.51      0.43      0.46       310\n",
            "           2       0.71      0.81      0.76       283\n",
            "           3       0.60      0.60      0.60       283\n",
            "           4       0.78      0.84      0.81       315\n",
            "\n",
            "    accuracy                           0.66      1501\n",
            "   macro avg       0.66      0.67      0.66      1501\n",
            "weighted avg       0.66      0.66      0.66      1501\n",
            "\n"
          ]
        }
      ]
    },
    {
      "cell_type": "code",
      "source": [
        "# Define the Logistic Regression model with gradient descent approach\n",
        "model = LogisticRegression(max_iter=1000, solver='sag', )\n",
        "\n",
        "# Train the model\n",
        "model.fit(X_train, y_train)\n",
        "\n",
        "# Predict labels for the test set\n",
        "y_pred = model.predict(X_test)"
      ],
      "metadata": {
        "id": "Caj-xIHsJhoU"
      },
      "execution_count": 27,
      "outputs": []
    },
    {
      "cell_type": "code",
      "source": [
        "\n",
        "\n",
        "\n",
        "\n",
        "# Calculate accuracy\n",
        "accuracy = model.score(X_test, y_test)\n",
        "print(f\"Accuracy: {accuracy}\")\n",
        "\n",
        "# Calculate confusion matrix\n",
        "conf_matrix = confusion_matrix(y_test, y_pred)\n",
        "print(\"Confusion Matrix:\")\n",
        "print(conf_matrix)\n",
        "\n",
        "# Calculate classification report (F1 score, recall, precision)\n",
        "report = classification_report(y_test, y_pred)\n",
        "print(\"Classification Report:\")\n",
        "print(report)\n"
      ],
      "metadata": {
        "id": "NaJWxQSPJw-d",
        "outputId": "fdf254f2-f191-4d84-f41c-9f6cd181c400",
        "colab": {
          "base_uri": "https://localhost:8080/"
        }
      },
      "execution_count": 28,
      "outputs": [
        {
          "output_type": "stream",
          "name": "stdout",
          "text": [
            "Accuracy: 0.715522984676882\n",
            "Confusion Matrix:\n",
            "[[190  80  15  25   0]\n",
            " [ 42 208  49  11   0]\n",
            " [  4  44 224  11   0]\n",
            " [ 14   5   5 206  53]\n",
            " [  0   0   0  69 246]]\n",
            "Classification Report:\n",
            "              precision    recall  f1-score   support\n",
            "\n",
            "           0       0.76      0.61      0.68       310\n",
            "           1       0.62      0.67      0.64       310\n",
            "           2       0.76      0.79      0.78       283\n",
            "           3       0.64      0.73      0.68       283\n",
            "           4       0.82      0.78      0.80       315\n",
            "\n",
            "    accuracy                           0.72      1501\n",
            "   macro avg       0.72      0.72      0.72      1501\n",
            "weighted avg       0.72      0.72      0.72      1501\n",
            "\n"
          ]
        }
      ]
    },
    {
      "cell_type": "code",
      "source": [],
      "metadata": {
        "id": "BRQYXRaRKBMv"
      },
      "execution_count": 21,
      "outputs": []
    }
  ]
}