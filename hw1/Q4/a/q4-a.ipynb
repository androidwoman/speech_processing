{
 "cells": [
  {
   "cell_type": "code",
   "execution_count": 4,
   "metadata": {},
   "outputs": [
    {
     "name": "stdout",
     "output_type": "stream",
     "text": [
      "Requirement already satisfied: pydub in c:\\users\\asus\\anaconda3\\envs\\myenv\\lib\\site-packages (0.25.1)\n"
     ]
    }
   ],
   "source": [
    "!pip install pydub"
   ]
  },
  {
   "cell_type": "code",
   "execution_count": 5,
   "metadata": {},
   "outputs": [],
   "source": [
    "import os\n",
    "from pydub import AudioSegment"
   ]
  },
  {
   "cell_type": "code",
   "execution_count": 6,
   "metadata": {},
   "outputs": [],
   "source": [
    "persian_number_map = {\n",
    "    'صفر': 0,\n",
    "    'یک': 1,\n",
    "    'دو': 2,\n",
    "    'سه': 3,\n",
    "    'چهار': 4,\n",
    "    'پنج': 5,\n",
    "    'شش': 6,\n",
    "    'هفت': 7,\n",
    "    'هشت': 8,\n",
    "    'نه': 9,\n",
    "    'ده': 10,\n",
    "    'یازده': 11,\n",
    "    'دوازده': 12,\n",
    "    'سیزده': 13,\n",
    "    'چهارده': 14,\n",
    "    'پانزده': 15,\n",
    "    'شانزده': 16,\n",
    "    'هفده': 17,\n",
    "    'هجده': 18,\n",
    "    'نوزده': 19,\n",
    "    'بیست': 20,\n",
    "    'سی': 30,\n",
    "    'چهل': 40,\n",
    "    'پنجاه': 50,\n",
    "    'شصت': 60,\n",
    "    'هفتاد': 70,\n",
    "    'هشتاد': 80,\n",
    "    'نود': 90,\n",
    "    'صد': 100,\n",
    "    'دویست': 200,\n",
    "    'سیصد': 300,\n",
    "    'چهارصد': 400,\n",
    "    'پانصد': 500,\n",
    "    'ششصد': 600,\n",
    "    'هفتصد': 700,\n",
    "    'هشتصد': 800,\n",
    "    'نهصد': 900,\n",
    "    'هزار': 1000,\n",
    "    'میلیون': 1000000,\n",
    "    'و': 'and'\n",
    "}\n"
   ]
  },
  {
   "cell_type": "code",
   "execution_count": 7,
   "metadata": {},
   "outputs": [
    {
     "name": "stdout",
     "output_type": "stream",
     "text": [
      "40\n"
     ]
    }
   ],
   "source": [
    "print(len(persian_number_map))"
   ]
  },
  {
   "cell_type": "code",
   "execution_count": 8,
   "metadata": {},
   "outputs": [],
   "source": [
    "def parse_number(number):\n",
    "    # Split the number into hundreds, tens, and ones\n",
    "    parts = []\n",
    "    if number >= 1000000:\n",
    "        million = number // 1000000\n",
    "        parts.append(f\"{million*1000000}\" +\".wav\")\n",
    "        number %= 1000 \n",
    "        if number > 0:\n",
    "            parts.append(\"and.wav\")\n",
    "            \n",
    "    if number >= 1000:\n",
    "        thousend = number // 1000\n",
    "        part=parse_number(thousend)\n",
    "        for p in part:\n",
    "         parts.append(p)\n",
    "        parts.append(f\"{1000}\"+\".wav\")\n",
    "        number %= 1000 \n",
    "        if number > 0:\n",
    "            parts.append(\"and.wav\")\n",
    "        \n",
    "\n",
    "    if number >= 100:\n",
    "        hundreds = number // 100\n",
    "        parts.append(f\"{hundreds*100}\"+\".wav\")\n",
    "        number %= 100  \n",
    "        if number > 0:\n",
    "            parts.append(\"and.wav\")\n",
    "    \n",
    "        \n",
    "\n",
    "    if 20 <= number < 100:\n",
    "        tens = (number // 10) * 10\n",
    "        parts.append(f\"{tens}\"+\".wav\")\n",
    "        number %= 10  \n",
    "        if number > 0:\n",
    "            parts.append(\"and.wav\")\n",
    "\n",
    "    if 0 < number < 20:\n",
    "        parts.append(f\"{number}\"+\".wav\")\n",
    "\n",
    "\n",
    "    \n",
    "    return parts"
   ]
  },
  {
   "cell_type": "code",
   "execution_count": 9,
   "metadata": {},
   "outputs": [],
   "source": [
    "def synthesize_number(number):\n",
    "    audio_files_to_concatenate = parse_number(number)\n",
    "    print(\"parts: \" ,audio_files_to_concatenate)\n",
    "    combined = AudioSegment.empty()\n",
    "    for file_name in audio_files_to_concatenate:\n",
    "        combined += AudioSegment.from_wav(\"record_files/\"+file_name)\n",
    "    return combined"
   ]
  },
  {
   "cell_type": "code",
   "execution_count": 10,
   "metadata": {},
   "outputs": [],
   "source": [
    "\n",
    "def text_to_number(persian_text):\n",
    "    # Convert Persian text to a number\n",
    "    parts = persian_text.split()\n",
    "    number = 0\n",
    "    temp_number = 0\n",
    "    for part in parts:\n",
    "        if part in persian_number_map:\n",
    "            value = persian_number_map[part]\n",
    "            if isinstance(value, int):\n",
    "                if value >= 1000:\n",
    "                    number += temp_number * value\n",
    "                    temp_number = 0\n",
    "                else:\n",
    "                    temp_number += value\n",
    "            elif value == 'and':\n",
    "                continue\n",
    "    number += temp_number\n",
    "    return number"
   ]
  },
  {
   "cell_type": "code",
   "execution_count": 11,
   "metadata": {},
   "outputs": [
    {
     "name": "stdout",
     "output_type": "stream",
     "text": [
      "parts:  ['1.wav', '1000.wav', 'and.wav', '400.wav', 'and.wav', '9.wav']\n"
     ]
    },
    {
     "data": {
      "text/plain": [
       "<_io.BufferedRandom name='1409_persian.wav'>"
      ]
     },
     "execution_count": 11,
     "metadata": {},
     "output_type": "execute_result"
    }
   ],
   "source": [
    "# Example usage:\n",
    "number = 1409\n",
    "audio_output = synthesize_number(number)\n",
    "audio_output.export(str(number)+\"_persian.wav\", format=\"wav\")"
   ]
  },
  {
   "cell_type": "code",
   "execution_count": 12,
   "metadata": {},
   "outputs": [
    {
     "name": "stdout",
     "output_type": "stream",
     "text": [
      "202010\n",
      "parts:  ['200.wav', 'and.wav', '2.wav', '1000.wav', 'and.wav', '10.wav']\n"
     ]
    },
    {
     "data": {
      "text/plain": [
       "<_io.BufferedRandom name='202010_persian.wav'>"
      ]
     },
     "execution_count": 12,
     "metadata": {},
     "output_type": "execute_result"
    }
   ],
   "source": [
    "input_text = \"دویست و دو هزار و ده\"\n",
    "number = text_to_number(input_text)\n",
    "print(number)\n",
    "audio_output = synthesize_number(number)\n",
    "audio_output.export(f\"{number}_persian.wav\", format=\"wav\")"
   ]
  },
  {
   "cell_type": "code",
   "execution_count": null,
   "metadata": {},
   "outputs": [],
   "source": []
  }
 ],
 "metadata": {
  "kernelspec": {
   "display_name": "myenv",
   "language": "python",
   "name": "python3"
  },
  "language_info": {
   "codemirror_mode": {
    "name": "ipython",
    "version": 3
   },
   "file_extension": ".py",
   "mimetype": "text/x-python",
   "name": "python",
   "nbconvert_exporter": "python",
   "pygments_lexer": "ipython3",
   "version": "3.10.13"
  }
 },
 "nbformat": 4,
 "nbformat_minor": 2
}
