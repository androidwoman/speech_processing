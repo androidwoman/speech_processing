{
  "cells": [
    {
      "cell_type": "code",
      "execution_count": 1,
      "metadata": {
        "id": "ekDwtomm3egQ"
      },
      "outputs": [],
      "source": [
        "!pip install -q kaggle"
      ]
    },
    {
      "cell_type": "code",
      "execution_count": 2,
      "metadata": {
        "id": "Kh8rq37I3egS",
        "colab": {
          "base_uri": "https://localhost:8080/"
        },
        "outputId": "3fb4a4b6-297f-4be1-9d79-177e7eb79053"
      },
      "outputs": [
        {
          "output_type": "stream",
          "name": "stdout",
          "text": [
            "cp: cannot stat '/content/kaggle.json': No such file or directory\n",
            "chmod: cannot access '/root/.kaggle/kaggle.json': No such file or directory\n"
          ]
        }
      ],
      "source": [
        "!mkdir -p ~/.kaggle\n",
        "!cp /content/kaggle.json ~/.kaggle/\n",
        "!chmod 600 ~/.kaggle/kaggle.json"
      ]
    },
    {
      "cell_type": "code",
      "source": [
        "! kaggle datasets download sripaadsrinivasan/audio-mnist"
      ],
      "metadata": {
        "colab": {
          "base_uri": "https://localhost:8080/"
        },
        "id": "kj0adTX73tpa",
        "outputId": "511be9e8-da35-4d8f-eacc-a59a55406d5c"
      },
      "execution_count": 3,
      "outputs": [
        {
          "output_type": "stream",
          "name": "stdout",
          "text": [
            "Dataset URL: https://www.kaggle.com/datasets/sripaadsrinivasan/audio-mnist\n",
            "License(s): CC0-1.0\n",
            "Downloading audio-mnist.zip to /content\n",
            " 98% 934M/948M [00:12<00:00, 76.2MB/s]\n",
            "100% 948M/948M [00:12<00:00, 78.8MB/s]\n"
          ]
        }
      ]
    },
    {
      "cell_type": "code",
      "execution_count": null,
      "metadata": {
        "id": "yHXdiD3u3egT"
      },
      "outputs": [],
      "source": [
        "! unzip /content/audio-mnist.zip"
      ]
    },
    {
      "cell_type": "code",
      "execution_count": 5,
      "metadata": {
        "colab": {
          "base_uri": "https://localhost:8080/"
        },
        "id": "Hg5G0Wiy3egT",
        "outputId": "ab056b28-91a5-4a11-9915-2672c61ab876"
      },
      "outputs": [
        {
          "output_type": "stream",
          "name": "stderr",
          "text": [
            "Loading dataset: 100%|██████████| 61/61 [00:51<00:00,  1.18it/s]"
          ]
        },
        {
          "output_type": "stream",
          "name": "stdout",
          "text": [
            "Training set size: 24000\n",
            "Test set size: 6000\n"
          ]
        },
        {
          "output_type": "stream",
          "name": "stderr",
          "text": [
            "\n"
          ]
        }
      ],
      "source": [
        "import os\n",
        "import librosa\n",
        "import numpy as np\n",
        "from sklearn.model_selection import train_test_split\n",
        "from tqdm import tqdm  # Import tqdm for progress indication\n",
        "\n",
        "# Path to the dataset\n",
        "dataset_path = '/content/data'\n",
        "\n",
        "# Load dataset\n",
        "def load_audio_files(dataset_path):\n",
        "    X = []\n",
        "    y = []\n",
        "    for folder in tqdm(os.listdir(dataset_path), desc='Loading dataset'):  # Add tqdm here\n",
        "        folder_path = os.path.join(dataset_path, folder)\n",
        "        if not os.path.isdir(folder_path):  # Check if it's a directory\n",
        "            continue\n",
        "        for file in os.listdir(folder_path):\n",
        "            if file.endswith('.wav'):\n",
        "                file_path = os.path.join(folder_path, file)\n",
        "                audio, sr = librosa.load(file_path, sr=16000)\n",
        "                X.append(audio)\n",
        "                label = int(file.split('_')[0])\n",
        "                y.append(label)\n",
        "    return X, y\n",
        "\n",
        "# Load the dataset\n",
        "X, y = load_audio_files(dataset_path)\n",
        "\n",
        "# Split dataset into train/test sets\n",
        "X_train, X_test, y_train, y_test = train_test_split(X, y, test_size=0.2, random_state=42)\n",
        "\n",
        "# Output the sizes of the splits\n",
        "print(f\"Training set size: {len(X_train)}\")\n",
        "print(f\"Test set size: {len(X_test)}\")\n",
        "\n"
      ]
    },
    {
      "cell_type": "code",
      "source": [
        "def extract_mfcc_features(audio, sr, n_mfcc=12, frame_length=0.025, hop_length=0.01):\n",
        "    mfcc = librosa.feature.mfcc(y=audio, sr=sr, n_mfcc=n_mfcc, n_fft=int(frame_length*sr), n_mels=24)\n",
        "    mean = np.mean(mfcc, axis=1)\n",
        "    return mean\n",
        "\n",
        "# Extract MFCC features for the dataset\n",
        "X_train_mfcc = [extract_mfcc_features(x, 16000) for x in X_train]\n",
        "X_test_mfcc = [extract_mfcc_features(x, 16000) for x in X_test]\n",
        "\n",
        "\n",
        "\n",
        "\n",
        "# Convert to numpy arrays\n",
        "X_train_mfcc = np.array(X_train_mfcc)\n",
        "X_test_mfcc = np.array(X_test_mfcc)\n",
        "y_train = np.array(y_train)\n",
        "y_test = np.array(y_test)\n",
        "\n",
        "print(\"MFCC feature extraction complete.\")\n"
      ],
      "metadata": {
        "colab": {
          "base_uri": "https://localhost:8080/"
        },
        "id": "hyXbIiPR45Wh",
        "outputId": "0a6793f6-d24e-49a7-882e-17b9d4d37dc0"
      },
      "execution_count": 7,
      "outputs": [
        {
          "output_type": "stream",
          "name": "stdout",
          "text": [
            "MFCC feature extraction complete.\n"
          ]
        }
      ]
    },
    {
      "cell_type": "code",
      "source": [
        "X_train_mfcc.shape"
      ],
      "metadata": {
        "colab": {
          "base_uri": "https://localhost:8080/"
        },
        "id": "71-YFw885bB9",
        "outputId": "806c94fc-ce23-47af-d3b2-d72f9099b695"
      },
      "execution_count": 8,
      "outputs": [
        {
          "output_type": "execute_result",
          "data": {
            "text/plain": [
              "(24000, 12)"
            ]
          },
          "metadata": {},
          "execution_count": 8
        }
      ]
    },
    {
      "cell_type": "code",
      "source": [
        "import numpy as np\n",
        "\n",
        "class MLP:\n",
        "    def __init__(self, input_size, hidden_size, output_size, learning_rate=0.001):\n",
        "        self.input_size = input_size\n",
        "        self.hidden_size = hidden_size\n",
        "        self.output_size = output_size\n",
        "        self.learning_rate = learning_rate\n",
        "\n",
        "        # وزن‌ها\n",
        "        self.W1 = np.random.randn(self.input_size, self.hidden_size)\n",
        "        self.W2 = np.random.randn(self.hidden_size, self.hidden_size)\n",
        "        self.W3 = np.random.randn(self.hidden_size, self.output_size)\n",
        "        self.b1 = np.zeros((1, self.hidden_size))\n",
        "        self.b2 = np.zeros((1, self.hidden_size))\n",
        "        self.b3 = np.zeros((1, self.output_size))\n",
        "\n",
        "    def bipolar_sigmoid(self, x):\n",
        "        return 2 / (1 + np.exp(-x)) - 1\n",
        "\n",
        "    def bipolar_sigmoid_derivative(self, x):\n",
        "        return 0.5 * (1 + x) * (1 - x)\n",
        "\n",
        "    def softmax(self, x):\n",
        "        exp_x = np.exp(x - np.max(x, axis=1, keepdims=True))\n",
        "        return exp_x / np.sum(exp_x, axis=1, keepdims=True)\n",
        "\n",
        "    def mse(self, y_true, y_pred):\n",
        "        return np.mean((y_true - y_pred) ** 2)\n",
        "\n",
        "    def forward(self, x):\n",
        "        self.z1 = np.dot(x, self.W1) + self.b1\n",
        "        self.a1 = self.bipolar_sigmoid(self.z1)\n",
        "        self.z2 = np.dot(self.a1, self.W2) + self.b2\n",
        "        self.a2 = self.bipolar_sigmoid(self.z2)\n",
        "        self.z3 = np.dot(self.a2, self.W3) + self.b3\n",
        "        self.a3 = self.bipolar_sigmoid(self.z3)\n",
        "        return self.a3\n",
        "\n",
        "    def backward(self, x, y, output):\n",
        "        m = y.shape[0]\n",
        "        delta3 = output - y\n",
        "        dW3 = np.dot(self.a2.T, delta3) / m\n",
        "        db3 = np.sum(delta3, axis=0, keepdims=True) / m\n",
        "\n",
        "        delta2 = np.dot(delta3, self.W3.T) * self.bipolar_sigmoid_derivative(self.a2)\n",
        "        dW2 = np.dot(self.a1.T, delta2) / m\n",
        "        db2 = np.sum(delta2, axis=0, keepdims=True) / m\n",
        "\n",
        "        delta1 = np.dot(delta2, self.W2.T) * self.bipolar_sigmoid_derivative(self.a1)\n",
        "        dW1 = np.dot(x.T, delta1) / m\n",
        "        db1 = np.sum(delta1, axis=0, keepdims=True) / m\n",
        "\n",
        "        self.W1 -= self.learning_rate * dW1\n",
        "        self.W2 -= self.learning_rate * dW2\n",
        "        self.W3 -= self.learning_rate * dW3\n",
        "        self.b1 -= self.learning_rate * db1\n",
        "        self.b2 -= self.learning_rate * db2\n",
        "        self.b3 -= self.learning_rate * db3\n",
        "\n",
        "    def train(self, X, y, epochs=30):\n",
        "        mse_errors = []\n",
        "        accuracies = []\n",
        "\n",
        "        for epoch in range(epochs):\n",
        "            total_error = 0\n",
        "            correct_predictions = 0\n",
        "            class_correct = np.zeros(self.output_size)\n",
        "            class_total = np.zeros(self.output_size)\n",
        "\n",
        "            for i in range(len(X)):\n",
        "                X_sample = X[i].reshape(1, -1)\n",
        "                y_sample = y[i].reshape(1, -1)\n",
        "\n",
        "                output = self.forward(X_sample)\n",
        "\n",
        "                self.backward(X_sample, y_sample, output)\n",
        "\n",
        "                # Calculate accuracy\n",
        "                predicted_class = np.argmax(self.softmax(output))\n",
        "                true_class = np.argmax(y_sample)\n",
        "                if predicted_class == true_class:\n",
        "                    correct_predictions += 1\n",
        "                    class_correct[true_class] += 1\n",
        "                class_total[true_class] += 1\n",
        "\n",
        "                total_error += self.mse(y_sample, output)\n",
        "\n",
        "            avg_error = total_error / len(X)\n",
        "            accuracy = correct_predictions / len(X)\n",
        "            mse_errors.append(avg_error)\n",
        "            accuracies.append(accuracy)\n",
        "            print(f\"Epoch {epoch+1}/{epochs}, Avg Error: {avg_error:.6f}, Accuracy: {accuracy:.6f}\")\n",
        "\n",
        "            # Print accuracy for each class\n",
        "            for i in range(self.output_size):\n",
        "                class_accuracy = class_correct[i] / class_total[i] if class_total[i] > 0 else 0\n",
        "                print(f\"Class {i} Accuracy: {class_accuracy:.6f}\")\n",
        "\n",
        "        return mse_errors, accuracies\n",
        "\n",
        "    def predict(self, X):\n",
        "        output = self.forward(X)\n",
        "        return np.argmax(self.softmax(output), axis=1)\n",
        "\n",
        "# Define the size of the input, hidden and output layers\n",
        "input_size = X_train_mfcc.shape[1]\n",
        "hidden_size = (input_size + 10) // 2\n",
        "output_size = 10\n",
        "\n",
        "# Initialize the MLP\n",
        "mlp = MLP(input_size=input_size, hidden_size=hidden_size, output_size=output_size, learning_rate=0.001)\n",
        "\n",
        "# one-hot encoding\n",
        "def to_one_hot(y, num_classes):\n",
        "    one_hot = np.zeros((y.shape[0], num_classes))\n",
        "    one_hot[np.arange(y.shape[0]), y] = 1\n",
        "    return one_hot\n",
        "\n",
        "y_train_one_hot = to_one_hot(y_train, output_size)\n",
        "\n",
        "# Train the MLP\n",
        "mse_errors, accuracies = mlp.train(X_train_mfcc, y_train_one_hot, epochs=5)\n",
        "\n",
        "\n"
      ],
      "metadata": {
        "id": "Agvggiuw6JkH",
        "colab": {
          "base_uri": "https://localhost:8080/"
        },
        "outputId": "9fb1ee66-a071-422c-afd4-95567ebcb8c2"
      },
      "execution_count": 18,
      "outputs": [
        {
          "output_type": "stream",
          "name": "stderr",
          "text": [
            "<ipython-input-18-029632d436d7>:19: RuntimeWarning: overflow encountered in exp\n",
            "  return 2 / (1 + np.exp(-x)) - 1\n"
          ]
        },
        {
          "output_type": "stream",
          "name": "stdout",
          "text": [
            "Epoch 1/5, Avg Error: 0.094799, Accuracy: 0.098333\n",
            "Class 0 Accuracy: 0.098693\n",
            "Class 1 Accuracy: 0.090235\n",
            "Class 2 Accuracy: 0.052919\n",
            "Class 3 Accuracy: 0.144477\n",
            "Class 4 Accuracy: 0.068737\n",
            "Class 5 Accuracy: 0.118869\n",
            "Class 6 Accuracy: 0.130325\n",
            "Class 7 Accuracy: 0.025353\n",
            "Class 8 Accuracy: 0.110790\n",
            "Class 9 Accuracy: 0.143211\n",
            "Epoch 2/5, Avg Error: 0.090456, Accuracy: 0.097042\n",
            "Class 0 Accuracy: 0.101645\n",
            "Class 1 Accuracy: 0.100536\n",
            "Class 2 Accuracy: 0.058379\n",
            "Class 3 Accuracy: 0.145737\n",
            "Class 4 Accuracy: 0.073292\n",
            "Class 5 Accuracy: 0.071904\n",
            "Class 6 Accuracy: 0.130747\n",
            "Class 7 Accuracy: 0.026600\n",
            "Class 8 Accuracy: 0.114924\n",
            "Class 9 Accuracy: 0.146925\n",
            "Epoch 3/5, Avg Error: 0.090447, Accuracy: 0.096500\n",
            "Class 0 Accuracy: 0.100801\n",
            "Class 1 Accuracy: 0.100124\n",
            "Class 2 Accuracy: 0.059219\n",
            "Class 3 Accuracy: 0.141537\n",
            "Class 4 Accuracy: 0.073292\n",
            "Class 5 Accuracy: 0.071072\n",
            "Class 6 Accuracy: 0.129059\n",
            "Class 7 Accuracy: 0.027847\n",
            "Class 8 Accuracy: 0.114924\n",
            "Class 9 Accuracy: 0.147338\n",
            "Epoch 4/5, Avg Error: 0.090439, Accuracy: 0.096208\n",
            "Class 0 Accuracy: 0.098693\n",
            "Class 1 Accuracy: 0.101772\n",
            "Class 2 Accuracy: 0.058379\n",
            "Class 3 Accuracy: 0.137337\n",
            "Class 4 Accuracy: 0.072878\n",
            "Class 5 Accuracy: 0.071904\n",
            "Class 6 Accuracy: 0.129059\n",
            "Class 7 Accuracy: 0.027847\n",
            "Class 8 Accuracy: 0.115337\n",
            "Class 9 Accuracy: 0.148989\n",
            "Epoch 5/5, Avg Error: 0.090431, Accuracy: 0.096083\n",
            "Class 0 Accuracy: 0.097427\n",
            "Class 1 Accuracy: 0.100948\n",
            "Class 2 Accuracy: 0.058379\n",
            "Class 3 Accuracy: 0.135237\n",
            "Class 4 Accuracy: 0.073292\n",
            "Class 5 Accuracy: 0.072735\n",
            "Class 6 Accuracy: 0.129481\n",
            "Class 7 Accuracy: 0.029094\n",
            "Class 8 Accuracy: 0.116990\n",
            "Class 9 Accuracy: 0.147338\n"
          ]
        }
      ]
    },
    {
      "cell_type": "code",
      "source": [
        "import numpy as np\n",
        "\n",
        "class MLP:\n",
        "    def __init__(self, input_size, hidden_size, output_size, learning_rate=0.001):\n",
        "        self.input_size = input_size\n",
        "        self.hidden_size = hidden_size\n",
        "        self.output_size = output_size\n",
        "        self.learning_rate = learning_rate\n",
        "\n",
        "        # Xavier initialization for weights\n",
        "        self.W1 = np.random.randn(self.input_size, self.hidden_size) * np.sqrt(1. / self.input_size)\n",
        "        self.W2 = np.random.randn(self.hidden_size, self.hidden_size) * np.sqrt(1. / self.hidden_size)\n",
        "        self.W3 = np.random.randn(self.hidden_size, self.output_size) * np.sqrt(1. / self.hidden_size)\n",
        "        self.b1 = np.zeros((1, self.hidden_size))\n",
        "        self.b2 = np.zeros((1, self.hidden_size))\n",
        "        self.b3 = np.zeros((1, self.output_size))\n",
        "\n",
        "    def bipolar_sigmoid(self, x):\n",
        "        return 2 / (1 + np.exp(-x)) - 1\n",
        "\n",
        "    def bipolar_sigmoid_derivative(self, x):\n",
        "        return 0.5 * (1 + x) * (1 - x)\n",
        "\n",
        "    def softmax(self, x):\n",
        "        exp_x = np.exp(x - np.max(x, axis=1, keepdims=True))\n",
        "        return exp_x / np.sum(exp_x, axis=1, keepdims=True)\n",
        "\n",
        "    def mse(self, y_true, y_pred):\n",
        "        return np.mean((y_true - y_pred) ** 2)\n",
        "\n",
        "    def forward(self, x):\n",
        "        self.z1 = np.dot(x, self.W1) + self.b1\n",
        "        self.a1 = self.bipolar_sigmoid(self.z1)\n",
        "        self.z2 = np.dot(self.a1, self.W2) + self.b2\n",
        "        self.a2 = self.bipolar_sigmoid(self.z2)\n",
        "        self.z3 = np.dot(self.a2, self.W3) + self.b3\n",
        "        self.a3 = self.bipolar_sigmoid(self.z3)\n",
        "        return self.a3\n",
        "\n",
        "    def backward(self, x, y, output):\n",
        "        m = y.shape[0]\n",
        "        delta3 = output - y\n",
        "        dW3 = np.dot(self.a2.T, delta3) / m\n",
        "        db3 = np.sum(delta3, axis=0, keepdims=True) / m\n",
        "\n",
        "        delta2 = np.dot(delta3, self.W3.T) * self.bipolar_sigmoid_derivative(self.a2)\n",
        "        dW2 = np.dot(self.a1.T, delta2) / m\n",
        "        db2 = np.sum(delta2, axis=0, keepdims=True) / m\n",
        "\n",
        "        delta1 = np.dot(delta2, self.W2.T) * self.bipolar_sigmoid_derivative(self.a1)\n",
        "        dW1 = np.dot(x.T, delta1) / m\n",
        "        db1 = np.sum(delta1, axis=0, keepdims=True) / m\n",
        "\n",
        "        self.W1 -= self.learning_rate * dW1\n",
        "        self.W2 -= self.learning_rate * dW2\n",
        "        self.W3 -= self.learning_rate * dW3\n",
        "        self.b1 -= self.learning_rate * db1\n",
        "        self.b2 -= self.learning_rate * db2\n",
        "        self.b3 -= self.learning_rate * db3\n",
        "\n",
        "    def train(self, X, y, epochs=30):\n",
        "        mse_errors = []\n",
        "        accuracies = []\n",
        "\n",
        "        for epoch in range(epochs):\n",
        "            total_error = 0\n",
        "            correct_predictions = 0\n",
        "            class_correct = np.zeros(self.output_size)\n",
        "            class_total = np.zeros(self.output_size)\n",
        "\n",
        "            for i in range(len(X)):\n",
        "                X_sample = X[i].reshape(1, -1)\n",
        "                y_sample = y[i].reshape(1, -1)\n",
        "\n",
        "                output = self.forward(X_sample)\n",
        "\n",
        "                self.backward(X_sample, y_sample, output)\n",
        "\n",
        "                # Calculate accuracy\n",
        "                predicted_class = np.argmax(self.softmax(output))\n",
        "                true_class = np.argmax(y_sample)\n",
        "                if predicted_class == true_class:\n",
        "                    correct_predictions += 1\n",
        "                    class_correct[true_class] += 1\n",
        "                class_total[true_class] += 1\n",
        "\n",
        "                total_error += self.mse(y_sample, output)\n",
        "\n",
        "            avg_error = total_error / len(X)\n",
        "            accuracy = correct_predictions / len(X)\n",
        "            mse_errors.append(avg_error)\n",
        "            accuracies.append(accuracy)\n",
        "            print(f\"Epoch {epoch+1}/{epochs}, Avg Error: {avg_error:.6f}, Accuracy: {accuracy:.6f}\")\n",
        "\n",
        "            # Print accuracy for each class\n",
        "            for i in range(self.output_size):\n",
        "                class_accuracy = class_correct[i] / class_total[i] if class_total[i] > 0 else 0\n",
        "                print(f\"Class {i} Accuracy: {class_accuracy:.6f}\")\n",
        "\n",
        "        return mse_errors, accuracies\n",
        "\n",
        "    def predict(self, X):\n",
        "        output = self.forward(X)\n",
        "        return np.argmax(self.softmax(output), axis=1)\n",
        "\n",
        "# Ensure the data is normalized\n",
        "X_train_mfcc = (X_train_mfcc - np.mean(X_train_mfcc, axis=0)) / np.std(X_train_mfcc, axis=0)\n",
        "X_test_mfcc = (X_test_mfcc - np.mean(X_test_mfcc, axis=0)) / np.std(X_test_mfcc, axis=0)\n",
        "\n",
        "# Define the size of the input, hidden and output layers\n",
        "input_size = X_train_mfcc.shape[1]\n",
        "hidden_size = (input_size + 10) // 2\n",
        "output_size = 10\n",
        "\n",
        "# Initialize the MLP\n",
        "mlp = MLP(input_size=input_size, hidden_size=hidden_size, output_size=output_size, learning_rate=0.001)\n",
        "\n",
        "# one-hot encoding\n",
        "def to_one_hot(y, num_classes):\n",
        "    one_hot = np.zeros((y.shape[0], num_classes))\n",
        "    one_hot[np.arange(y.shape[0]), y] = 1\n",
        "    return one_hot\n",
        "\n",
        "y_train_one_hot = to_one_hot(y_train, output_size)\n",
        "\n",
        "# Train the MLP\n",
        "mse_errors, accuracies = mlp.train(X_train_mfcc, y_train_one_hot, epochs=5)\n",
        "\n",
        "\n"
      ],
      "metadata": {
        "colab": {
          "base_uri": "https://localhost:8080/"
        },
        "id": "NJCpBsisgHfL",
        "outputId": "7c48d55f-a5a0-4102-b7d9-3989318f81b8"
      },
      "execution_count": 20,
      "outputs": [
        {
          "output_type": "stream",
          "name": "stdout",
          "text": [
            "Epoch 1/5, Avg Error: 0.076570, Accuracy: 0.437167\n",
            "Class 0 Accuracy: 0.090679\n",
            "Class 1 Accuracy: 0.214256\n",
            "Class 2 Accuracy: 0.344393\n",
            "Class 3 Accuracy: 0.434271\n",
            "Class 4 Accuracy: 0.778468\n",
            "Class 5 Accuracy: 0.539069\n",
            "Class 6 Accuracy: 0.878954\n",
            "Class 7 Accuracy: 0.293017\n",
            "Class 8 Accuracy: 0.775940\n",
            "Class 9 Accuracy: 0.024763\n",
            "Epoch 2/5, Avg Error: 0.066970, Accuracy: 0.578708\n",
            "Class 0 Accuracy: 0.109237\n",
            "Class 1 Accuracy: 0.459415\n",
            "Class 2 Accuracy: 0.528769\n",
            "Class 3 Accuracy: 0.648047\n",
            "Class 4 Accuracy: 0.921325\n",
            "Class 5 Accuracy: 0.881546\n",
            "Class 6 Accuracy: 0.980177\n",
            "Class 7 Accuracy: 0.185786\n",
            "Class 8 Accuracy: 0.875982\n",
            "Class 9 Accuracy: 0.196863\n",
            "Epoch 3/5, Avg Error: 0.064074, Accuracy: 0.640875\n",
            "Class 0 Accuracy: 0.239561\n",
            "Class 1 Accuracy: 0.479192\n",
            "Class 2 Accuracy: 0.528349\n",
            "Class 3 Accuracy: 0.657287\n",
            "Class 4 Accuracy: 0.934576\n",
            "Class 5 Accuracy: 0.904821\n",
            "Class 6 Accuracy: 0.979755\n",
            "Class 7 Accuracy: 0.333749\n",
            "Class 8 Accuracy: 0.907400\n",
            "Class 9 Accuracy: 0.442427\n",
            "Epoch 4/5, Avg Error: 0.062667, Accuracy: 0.678250\n",
            "Class 0 Accuracy: 0.385913\n",
            "Class 1 Accuracy: 0.514627\n",
            "Class 2 Accuracy: 0.473331\n",
            "Class 3 Accuracy: 0.673667\n",
            "Class 4 Accuracy: 0.932505\n",
            "Class 5 Accuracy: 0.908562\n",
            "Class 6 Accuracy: 0.977647\n",
            "Class 7 Accuracy: 0.446800\n",
            "Class 8 Accuracy: 0.907813\n",
            "Class 9 Accuracy: 0.559637\n",
            "Epoch 5/5, Avg Error: 0.061537, Accuracy: 0.698792\n",
            "Class 0 Accuracy: 0.455504\n",
            "Class 1 Accuracy: 0.531932\n",
            "Class 2 Accuracy: 0.459051\n",
            "Class 3 Accuracy: 0.686266\n",
            "Class 4 Accuracy: 0.930849\n",
            "Class 5 Accuracy: 0.908146\n",
            "Class 6 Accuracy: 0.976381\n",
            "Class 7 Accuracy: 0.529094\n",
            "Class 8 Accuracy: 0.913187\n",
            "Class 9 Accuracy: 0.595543\n"
          ]
        }
      ]
    },
    {
      "cell_type": "code",
      "source": [
        "import matplotlib.pyplot as plt\n",
        "# Plot MSE errors\n",
        "plt.figure(figsize=(10, 5))\n",
        "plt.plot(mse_errors, label='MSE Error')\n",
        "plt.xlabel('Epochs')\n",
        "plt.ylabel('MSE')\n",
        "plt.title('MSE Error over Epochs')\n",
        "plt.legend()\n",
        "plt.show()\n",
        "\n",
        "\n",
        "\n",
        "\n"
      ],
      "metadata": {
        "id": "4F_H6VW5XV1V",
        "colab": {
          "base_uri": "https://localhost:8080/",
          "height": 487
        },
        "outputId": "9ac5244a-f4ba-447d-ead9-a6d4670bc1a6"
      },
      "execution_count": 21,
      "outputs": [
        {
          "output_type": "display_data",
          "data": {
            "text/plain": [
              "<Figure size 1000x500 with 1 Axes>"
            ],
            "image/png": "[encoded data removed]"
          },
          "metadata": {}
        }
      ]
    },
    {
      "cell_type": "code",
      "source": [
        "# Plot accuracies\n",
        "plt.figure(figsize=(10, 5))\n",
        "plt.plot(accuracies, label='Accuracy')\n",
        "plt.xlabel('Epochs')\n",
        "plt.ylabel('Accuracy')\n",
        "plt.title('Accuracy over Epochs')\n",
        "plt.legend()\n",
        "plt.show()"
      ],
      "metadata": {
        "id": "uMjiFu9LbTuU",
        "colab": {
          "base_uri": "https://localhost:8080/",
          "height": 487
        },
        "outputId": "d4c21be8-bb87-4601-ef8e-9b54deca0998"
      },
      "execution_count": 22,
      "outputs": [
        {
          "output_type": "display_data",
          "data": {
            "text/plain": [
              "<Figure size 1000x500 with 1 Axes>"
            ],
            "image/png": "[encoded data removed]"
          },
          "metadata": {}
        }
      ]
    },
    {
      "cell_type": "code",
      "source": [
        "# Predict on test data\n",
        "y_pred = mlp.predict(X_test_mfcc)\n",
        "\n",
        "# Calculate test accuracy\n",
        "test_accuracy = np.mean(y_pred == y_test)\n",
        "print(f'Test Accuracy: {test_accuracy * 100:.2f}%')\n",
        "\n",
        "# Calculate accuracy for each class on test data\n",
        "class_correct = np.zeros(output_size)\n",
        "class_total = np.zeros(output_size)\n",
        "\n",
        "for i in range(len(y_test)):\n",
        "    true_class = y_test[i]\n",
        "    predicted_class = y_pred[i]\n",
        "    if true_class == predicted_class:\n",
        "        class_correct[true_class] += 1\n",
        "    class_total[true_class] += 1\n",
        "\n",
        "for i in range(output_size):\n",
        "    class_accuracy = class_correct[i] / class_total[i] if class_total[i] > 0 else 0\n",
        "    print(f\"Test Class {i} Accuracy: {class_accuracy * 100:.2f}%\")"
      ],
      "metadata": {
        "id": "qcQk4zt8bSWT",
        "colab": {
          "base_uri": "https://localhost:8080/"
        },
        "outputId": "a7e2143f-a9fd-4134-9a41-e614cefb3118"
      },
      "execution_count": 23,
      "outputs": [
        {
          "output_type": "stream",
          "name": "stdout",
          "text": [
            "Test Accuracy: 69.98%\n",
            "Test Class 0 Accuracy: 52.78%\n",
            "Test Class 1 Accuracy: 48.34%\n",
            "Test Class 2 Accuracy: 42.00%\n",
            "Test Class 3 Accuracy: 67.69%\n",
            "Test Class 4 Accuracy: 93.50%\n",
            "Test Class 5 Accuracy: 89.06%\n",
            "Test Class 6 Accuracy: 97.93%\n",
            "Test Class 7 Accuracy: 59.43%\n",
            "Test Class 8 Accuracy: 91.39%\n",
            "Test Class 9 Accuracy: 58.06%\n"
          ]
        }
      ]
    }
  ],
  "metadata": {
    "language_info": {
      "name": "python"
    },
    "colab": {
      "provenance": []
    },
    "kernelspec": {
      "name": "python3",
      "display_name": "Python 3"
    }
  },
  "nbformat": 4,
  "nbformat_minor": 0
}