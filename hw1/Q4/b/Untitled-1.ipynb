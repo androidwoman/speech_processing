{
 "cells": [
  {
   "cell_type": "code",
   "execution_count": 2,
   "metadata": {},
   "outputs": [
    {
     "name": "stderr",
     "output_type": "stream",
     "text": [
      "c:\\Users\\ASUS\\anaconda3\\envs\\myenv\\lib\\site-packages\\pydub\\utils.py:170: RuntimeWarning: Couldn't find ffmpeg or avconv - defaulting to ffmpeg, but may not work\n",
      "  warn(\"Couldn't find ffmpeg or avconv - defaulting to ffmpeg, but may not work\", RuntimeWarning)\n"
     ]
    }
   ],
   "source": [
    "from pydub import AudioSegment"
   ]
  },
  {
   "cell_type": "markdown",
   "metadata": {},
   "source": [
    "1402"
   ]
  },
  {
   "cell_type": "code",
   "execution_count": 15,
   "metadata": {},
   "outputs": [
    {
     "data": {
      "text/plain": [
       "<_io.BufferedRandom name='1409.wav'>"
      ]
     },
     "execution_count": 15,
     "metadata": {},
     "output_type": "execute_result"
    }
   ],
   "source": [
    "parts=['24.wav','2.wav','20.wav','6.wav','26.wav' ,'5.wav','15.wav','6.wav','24.wav','6.wav','26.wav','19.wav','3.wav','10.wav','5.wav','28.wav','5.wav','24.wav']\n",
    "combined = AudioSegment.empty()\n",
    "for part in parts:\n",
    "    combined += AudioSegment.from_wav(part) \n",
    "\n",
    "combined.export(\"1409.wav\", format=\"wav\")"
   ]
  },
  {
   "cell_type": "markdown",
   "metadata": {},
   "source": [
    " دویست و دو هزار و ده"
   ]
  },
  {
   "cell_type": "code",
   "execution_count": 7,
   "metadata": {},
   "outputs": [
    {
     "data": {
      "text/plain": [
       "<_io.BufferedRandom name='202010.wav'>"
      ]
     },
     "execution_count": 7,
     "metadata": {},
     "output_type": "execute_result"
    }
   ],
   "source": [
    "parts=['10.wav','1.wav','18.wav','1.wav','19.wav','9.wav','5.wav','10.wav','5.wav','24.wav','24.wav','2.wav','20.wav','6.wav','26.wav','5.wav','10.wav','3.wav','24.wav']\n",
    "combined = AudioSegment.empty()\n",
    "for part in parts:\n",
    "    combined += AudioSegment.from_wav(part) \n",
    "\n",
    "combined.export(\"202010.wav\", format=\"wav\")"
   ]
  },
  {
   "cell_type": "markdown",
   "metadata": {},
   "source": [
    "دانشگاه تهران"
   ]
  },
  {
   "cell_type": "code",
   "execution_count": 11,
   "metadata": {},
   "outputs": [
    {
     "data": {
      "text/plain": [
       "<_io.BufferedRandom name='دانشگاه تهران.wav'>"
      ]
     },
     "execution_count": 11,
     "metadata": {},
     "output_type": "execute_result"
    }
   ],
   "source": [
    "parts=['10.wav','6.wav','28.wav','2.wav','21.wav','12.wav','6.wav','24.wav','2.wav','9.wav','2.wav','24.wav','26.wav','6.wav','28.wav']\n",
    "combined = AudioSegment.empty()\n",
    "for part in parts:\n",
    "    combined += AudioSegment.from_wav(part) \n",
    "\n",
    "combined.export(\"دانشگاه تهران.wav\", format=\"wav\")"
   ]
  },
  {
   "cell_type": "code",
   "execution_count": 12,
   "metadata": {},
   "outputs": [
    {
     "data": {
      "text/plain": [
       "<_io.BufferedRandom name='دانشگاه تهران.wav'>"
      ]
     },
     "execution_count": 12,
     "metadata": {},
     "output_type": "execute_result"
    }
   ],
   "source": [
    "parts=['10.wav','6.wav','28.wav','2.wav','21.wav','12.wav','6.wav','24.wav','2.wav','9.wav','2.wav','24.wav','26.wav','6.wav','28.wav']\n",
    "combined = AudioSegment.empty()\n",
    "for part in parts:\n",
    "    combined += AudioSegment.from_wav(part) \n",
    "\n",
    "combined.export(\"دانشگاه تهران.wav\", format=\"wav\")"
   ]
  },
  {
   "cell_type": "markdown",
   "metadata": {},
   "source": [
    "به کجا چنین \n",
    "شتابان"
   ]
  },
  {
   "cell_type": "code",
   "execution_count": 17,
   "metadata": {},
   "outputs": [
    {
     "data": {
      "text/plain": [
       "<_io.BufferedRandom name='به کجا چنین شتابان.wav'>"
      ]
     },
     "execution_count": 17,
     "metadata": {},
     "output_type": "execute_result"
    }
   ],
   "source": [
    "parts=['8.wav','2.wav','11.wav','5.wav','16.wav','6.wav','15.wav','2.wav','28.wav','1.wav','28.wav','21.wav','2.wav','9.wav','6.wav','8.wav','6.wav','28.wav']\n",
    "combined = AudioSegment.empty()\n",
    "for part in parts:\n",
    "    combined += AudioSegment.from_wav(part) \n",
    "\n",
    "combined.export(\"به کجا چنین شتابان.wav\", format=\"wav\")"
   ]
  },
  {
   "cell_type": "markdown",
   "metadata": {},
   "source": [
    "فاطمه چیت ساز"
   ]
  },
  {
   "cell_type": "code",
   "execution_count": 19,
   "metadata": {},
   "outputs": [
    {
     "data": {
      "text/plain": [
       "<_io.BufferedRandom name='فاطمه چیت ساز.wav'>"
      ]
     },
     "execution_count": 19,
     "metadata": {},
     "output_type": "execute_result"
    }
   ],
   "source": [
    "parts=['17.wav','6.wav','9.wav','2.wav','27.wav','2.wav','24.wav','15.wav','1.wav','9.wav','19.wav','6.wav','20.wav']\n",
    "combined = AudioSegment.empty()\n",
    "for part in parts:\n",
    "    combined += AudioSegment.from_wav(part) \n",
    "\n",
    "combined.export(\"فاطمه چیت ساز.wav\", format=\"wav\")"
   ]
  },
  {
   "cell_type": "code",
   "execution_count": null,
   "metadata": {},
   "outputs": [],
   "source": []
  }
 ],
 "metadata": {
  "kernelspec": {
   "display_name": "myenv",
   "language": "python",
   "name": "python3"
  },
  "language_info": {
   "codemirror_mode": {
    "name": "ipython",
    "version": 3
   },
   "file_extension": ".py",
   "mimetype": "text/x-python",
   "name": "python",
   "nbconvert_exporter": "python",
   "pygments_lexer": "ipython3",
   "version": "3.10.13"
  }
 },
 "nbformat": 4,
 "nbformat_minor": 2
}
