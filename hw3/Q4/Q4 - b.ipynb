{
 "cells": [
  {
   "cell_type": "code",
   "execution_count": 7,
   "metadata": {},
   "outputs": [],
   "source": [
    "import os\n",
    "import numpy as np\n",
    "import librosa\n",
    "from sklearn.model_selection import train_test_split\n",
    "from sklearn.neighbors import KNeighborsClassifier\n",
    "from sklearn.metrics import accuracy_score"
   ]
  },
  {
   "cell_type": "code",
   "execution_count": 8,
   "metadata": {},
   "outputs": [],
   "source": [
    "train_data_dir = \"TrainSet\"\n",
    "test_data_dir = \"TestSet\"\n",
    "\n",
    "train_durations = []\n",
    "for root, dirs, files in os.walk(train_data_dir):\n",
    "    for file in files:\n",
    "        if file.endswith('.wav'):\n",
    "            file_path = os.path.join(root, file)\n",
    "            audio, sr = librosa.load(file_path, sr=None)\n",
    "            train_durations.append(len(audio))\n",
    "\n",
    "test_durations = []\n",
    "for root, dirs, files in os.walk(test_data_dir):\n",
    "    for file in files:\n",
    "        if file.endswith('.wav'):\n",
    "            file_path = os.path.join(root, file)\n",
    "            audio, sr = librosa.load(file_path, sr=None)\n",
    "            test_durations.append(len(audio))\n",
    "\n",
    "target_duration = max(max(train_durations), max(test_durations))\n"
   ]
  },
  {
   "cell_type": "code",
   "execution_count": 9,
   "metadata": {},
   "outputs": [],
   "source": [
    "def load_audio_with_padding(file_path):\n",
    "    audio, sr = librosa.load(file_path, sr=None,)\n",
    "    if len(audio) < target_duration:\n",
    "        pad_width = int(target_duration - len(audio))\n",
    "        audio = np.pad(audio, pad_width=((0, pad_width)), mode='constant')\n",
    "    return audio, sr\n"
   ]
  },
  {
   "cell_type": "code",
   "execution_count": 10,
   "metadata": {},
   "outputs": [],
   "source": [
    "# Function to extract MFCC features from audio file\n",
    "\n",
    "def extract_lpc(file_path, num_lpc=14):\n",
    "    # Load audio file\n",
    "    y, sr = load_audio_with_padding(file_path)\n",
    "    \n",
    "    # Extract LPC features\n",
    "    lpc = librosa.core.lpc(y, order=num_lpc)\n",
    "    \n",
    "    return lpc"
   ]
  },
  {
   "cell_type": "code",
   "execution_count": 11,
   "metadata": {},
   "outputs": [],
   "source": [
    "# Function to load data and extract features\n",
    "def load_data(data_dir,):\n",
    "    labels = []\n",
    "    features = []\n",
    "\n",
    "    for root, dirs, files in os.walk(data_dir):\n",
    "        for file in files:\n",
    "            if file.endswith('.wav'):\n",
    "                file_path = os.path.join(root, file)\n",
    "                label = int(os.path.basename(root))\n",
    "                labels.append(label)\n",
    "                lpc = extract_lpc(file_path)\n",
    "                features.append(lpc.T)\n",
    "\n",
    "\n",
    "\n",
    "\n",
    "    return features, labels"
   ]
  },
  {
   "cell_type": "code",
   "execution_count": 12,
   "metadata": {},
   "outputs": [],
   "source": [
    "\n",
    "\n",
    "# Load training data\n",
    "train_data_dir = \"TrainSet\"\n",
    "X_train, y_train = load_data(train_data_dir)\n",
    "\n",
    "# Load test data\n",
    "test_data_dir = \"TestSet\"\n",
    "X_test, y_test = load_data(test_data_dir)\n",
    "\n",
    "\n"
   ]
  },
  {
   "cell_type": "code",
   "execution_count": 13,
   "metadata": {},
   "outputs": [],
   "source": [
    "\n",
    "\n",
    "X_train =  np.array( X_train)\n",
    "\n",
    "X_test = np.array( X_test)"
   ]
  },
  {
   "cell_type": "code",
   "execution_count": 14,
   "metadata": {},
   "outputs": [
    {
     "name": "stdout",
     "output_type": "stream",
     "text": [
      "(296, 15) (1900, 15)\n"
     ]
    }
   ],
   "source": [
    "print(X_test.shape,X_train.shape)"
   ]
  },
  {
   "cell_type": "code",
   "execution_count": 15,
   "metadata": {},
   "outputs": [
    {
     "name": "stdout",
     "output_type": "stream",
     "text": [
      "Accuracy for K=7: 0.5405405405405406\n",
      "Accuracy for K=11: 0.5405405405405406\n",
      "Accuracy for K=15: 0.5337837837837838\n",
      "Accuracy for K=20: 0.4966216216216216\n"
     ]
    }
   ],
   "source": [
    "\n",
    "# Define K values for KNN\n",
    "k_values = [7, 11, 15, 20]\n",
    "\n",
    "# Iterate over K values\n",
    "for k in k_values:\n",
    "    # Train KNN model\n",
    "    knn = KNeighborsClassifier(n_neighbors=k)\n",
    "    knn.fit(X_train, y_train)\n",
    "\n",
    "    # Predict labels for test data\n",
    "    y_pred = knn.predict(X_test)\n",
    "\n",
    "    # Calculate accuracy\n",
    "    accuracy = accuracy_score(y_test, y_pred)\n",
    "    print(f\"Accuracy for K={k}: {accuracy}\")\n"
   ]
  },
  {
   "cell_type": "code",
   "execution_count": 16,
   "metadata": {},
   "outputs": [
    {
     "name": "stdout",
     "output_type": "stream",
     "text": [
      "Accuracy of SVM with linear kernel using LPC features: 0.6756756756756757\n",
      "Accuracy of SVM with polynomial kernel using LPC features: 0.4222972972972973\n"
     ]
    }
   ],
   "source": [
    "from sklearn.svm import SVC\n",
    "from sklearn.metrics import accuracy_score\n",
    "\n",
    "\n",
    "# SVM with linear kernel using LPC features\n",
    "svm_linear_lpc = SVC(kernel='linear')\n",
    "svm_linear_lpc.fit(X_train, y_train)\n",
    "y_pred_linear_lpc = svm_linear_lpc.predict(X_test)\n",
    "accuracy_linear_lpc = accuracy_score(y_test, y_pred_linear_lpc)\n",
    "print(\"Accuracy of SVM with linear kernel using LPC features:\", accuracy_linear_lpc)\n",
    "\n",
    "# SVM with polynomial kernel using LPC features\n",
    "svm_poly_lpc = SVC(kernel='poly')\n",
    "svm_poly_lpc.fit(X_train, y_train)\n",
    "y_pred_poly_lpc = svm_poly_lpc.predict(X_test)\n",
    "accuracy_poly_lpc = accuracy_score(y_test, y_pred_poly_lpc)\n",
    "print(\"Accuracy of SVM with polynomial kernel using LPC features:\", accuracy_poly_lpc)\n",
    "\n",
    "\n"
   ]
  }
 ],
 "metadata": {
  "kernelspec": {
   "display_name": "myenv",
   "language": "python",
   "name": "python3"
  },
  "language_info": {
   "codemirror_mode": {
    "name": "ipython",
    "version": 3
   },
   "file_extension": ".py",
   "mimetype": "text/x-python",
   "name": "python",
   "nbconvert_exporter": "python",
   "pygments_lexer": "ipython3",
   "version": "3.10.13"
  }
 },
 "nbformat": 4,
 "nbformat_minor": 2
}
